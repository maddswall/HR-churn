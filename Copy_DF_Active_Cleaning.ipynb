{
  "nbformat": 4,
  "nbformat_minor": 0,
  "metadata": {
    "colab": {
      "provenance": []
    },
    "kernelspec": {
      "name": "python3",
      "display_name": "Python 3"
    },
    "language_info": {
      "name": "python"
    }
  },
  "cells": [
    {
      "cell_type": "code",
      "execution_count": null,
      "metadata": {
        "id": "73jAcHVufJZv"
      },
      "outputs": [],
      "source": [
        "import pandas as pd\n",
        "import numpy as np\n",
        "import matplotlib.pyplot as plt\n",
        "import seaborn as sns\n",
        "from scipy import stats"
      ]
    },
    {
      "cell_type": "code",
      "source": [
        "from google.colab import drive\n",
        "drive.mount('/content/drive')\n"
      ],
      "metadata": {
        "id": "7qhrqNFGf6i_",
        "colab": {
          "base_uri": "https://localhost:8080/"
        },
        "outputId": "6ad82af4-6b22-4c45-ce1a-d47c47d53770"
      },
      "execution_count": null,
      "outputs": [
        {
          "output_type": "stream",
          "name": "stdout",
          "text": [
            "Drive already mounted at /content/drive; to attempt to forcibly remount, call drive.mount(\"/content/drive\", force_remount=True).\n"
          ]
        }
      ]
    },
    {
      "cell_type": "code",
      "source": [
        "df1 = pd.read_excel('/content/drive/MyDrive/Exp_Proj_5490/Project/EP5490_Data.xlsx')"
      ],
      "metadata": {
        "id": "-yjC9Mk7f1o4"
      },
      "execution_count": null,
      "outputs": []
    },
    {
      "cell_type": "code",
      "source": [
        "df = df1.copy()"
      ],
      "metadata": {
        "id": "37510DW5-jGf"
      },
      "execution_count": null,
      "outputs": []
    },
    {
      "cell_type": "code",
      "source": [
        "df"
      ],
      "metadata": {
        "id": "XCLQjyoqIfEU",
        "outputId": "2358b720-28be-41f7-bc3f-babe59398385",
        "colab": {
          "base_uri": "https://localhost:8080/",
          "height": 825
        }
      },
      "execution_count": null,
      "outputs": [
        {
          "output_type": "execute_result",
          "data": {
            "text/plain": [
              "       Annonymized ID      Job Code                         Job Title  \\\n",
              "0                1111   1345_USA BA                Principal Engineer   \n",
              "1                1112   8804_USA BA       Managing Principal Engineer   \n",
              "2                1113  1600_USA NTL                    Staff Engineer   \n",
              "3                1115   3627_USA BA  Sr Staff Program/Project Manager   \n",
              "4                1116  2692_USA NTL                      Technologist   \n",
              "...               ...           ...                               ...   \n",
              "25990           87558  8809_USA NTL       Managing Principal Engineer   \n",
              "25991           87559   2042_USA BA           Sr Engineering Director   \n",
              "25992           87560  1343_USA NTL                Principal Engineer   \n",
              "25993           87562  1558_USA NTL                 Sr Staff Engineer   \n",
              "25994           87564   2262_USA BA                        Sr Analyst   \n",
              "\n",
              "                 Job Function              Job Category     Job Group  \\\n",
              "0                 Engineering  Engineering Professional  Professional   \n",
              "1                 Engineering                Management    Management   \n",
              "2                 Engineering  Engineering Professional  Professional   \n",
              "3      Information Technology              Professional  Professional   \n",
              "4                 Engineering  Engineering Professional  Professional   \n",
              "...                       ...                       ...           ...   \n",
              "25990             Engineering                Management    Management   \n",
              "25991             Engineering                Management    Management   \n",
              "25992             Engineering  Engineering Professional  Professional   \n",
              "25993             Engineering  Engineering Professional  Professional   \n",
              "25994      Finance/Accounting              Professional  Professional   \n",
              "\n",
              "       Compa Ratio Pay Level            Work Location   Work Country  ...  \\\n",
              "0            0.675        P6  Cupertino United States  United States  ...   \n",
              "1            0.979        M4    Fremont United States  United States  ...   \n",
              "2            1.146        P4                Remote US  United States  ...   \n",
              "3            0.941        P5    Fremont United States  United States  ...   \n",
              "4            0.932        P7   Longmont United States  United States  ...   \n",
              "...            ...       ...                      ...            ...  ...   \n",
              "25990        1.043        M4   Longmont United States  United States  ...   \n",
              "25991        0.841        M6    Fremont United States  United States  ...   \n",
              "25992        0.767        P6   Longmont United States  United States  ...   \n",
              "25993        0.893        P5   Longmont United States  United States  ...   \n",
              "25994        0.595        P3  Cupertino United States  United States  ...   \n",
              "\n",
              "      Termination Date     Tenure Tenure Bucket Base Pay Mid Point Annualized  \\\n",
              "0           2017-09-25  32.194521     20+ Years                      270004.8   \n",
              "1           2022-02-04  31.079452     20+ Years                      203008.0   \n",
              "2                  NaT  33.101370     20+ Years                      118996.8   \n",
              "3                  NaT  32.969863     20+ Years                      184995.2   \n",
              "4                  NaT  32.947945     20+ Years                      249995.2   \n",
              "...                ...        ...           ...                           ...   \n",
              "25990       2022-12-07  32.213699     20+ Years                      184995.2   \n",
              "25991              NaT  33.421918     20+ Years                      276993.6   \n",
              "25992       2018-10-12  28.002740     20+ Years                      243006.4   \n",
              "25993       2018-10-12  27.947945     20+ Years                      167003.2   \n",
              "25994       2018-09-12  27.827397     20+ Years                      171995.2   \n",
              "\n",
              "       Currency Conversion Rate Generation  Work Structure  \\\n",
              "0                           1.0     Boomer             NaN   \n",
              "1                           1.0     Boomer             NaN   \n",
              "2                           1.0     Boomer          Remote   \n",
              "3                           1.0      Gen X          Onsite   \n",
              "4                           1.0     Boomer          Onsite   \n",
              "...                         ...        ...             ...   \n",
              "25990                       1.0     Boomer          Onsite   \n",
              "25991                       1.0      Gen X          Onsite   \n",
              "25992                       1.0     Boomer             NaN   \n",
              "25993                       1.0     Boomer             NaN   \n",
              "25994                       1.0     Boomer             NaN   \n",
              "\n",
              "              Termination Type                     Termination Reason   \\\n",
              "0      Involuntary Termination  Position Elimination / RIF Involuntary   \n",
              "1        Voluntary Termination                        Compensation/Pay   \n",
              "2                          NaN                                     NaN   \n",
              "3                          NaN                                     NaN   \n",
              "4                          NaN                                     NaN   \n",
              "...                        ...                                     ...   \n",
              "25990  Involuntary Termination  Position Elimination / RIF Involuntary   \n",
              "25991                      NaN                                     NaN   \n",
              "25992        Other Termination                              Retirement   \n",
              "25993        Other Termination                              Retirement   \n",
              "25994        Other Termination                           End of Career   \n",
              "\n",
              "      Cost to Replace Employee Multiplier  \n",
              "0                                    1.25  \n",
              "1                                    1.25  \n",
              "2                                    1.25  \n",
              "3                                    1.25  \n",
              "4                                    1.25  \n",
              "...                                   ...  \n",
              "25990                                1.25  \n",
              "25991                                1.25  \n",
              "25992                                1.25  \n",
              "25993                                1.25  \n",
              "25994                                1.25  \n",
              "\n",
              "[25995 rows x 23 columns]"
            ],
            "text/html": [
              "\n",
              "  <div id=\"df-d9b748d1-49c4-42ba-ab11-94a560bba1bd\" class=\"colab-df-container\">\n",
              "    <div>\n",
              "<style scoped>\n",
              "    .dataframe tbody tr th:only-of-type {\n",
              "        vertical-align: middle;\n",
              "    }\n",
              "\n",
              "    .dataframe tbody tr th {\n",
              "        vertical-align: top;\n",
              "    }\n",
              "\n",
              "    .dataframe thead th {\n",
              "        text-align: right;\n",
              "    }\n",
              "</style>\n",
              "<table border=\"1\" class=\"dataframe\">\n",
              "  <thead>\n",
              "    <tr style=\"text-align: right;\">\n",
              "      <th></th>\n",
              "      <th>Annonymized ID</th>\n",
              "      <th>Job Code</th>\n",
              "      <th>Job Title</th>\n",
              "      <th>Job Function</th>\n",
              "      <th>Job Category</th>\n",
              "      <th>Job Group</th>\n",
              "      <th>Compa Ratio</th>\n",
              "      <th>Pay Level</th>\n",
              "      <th>Work Location</th>\n",
              "      <th>Work Country</th>\n",
              "      <th>...</th>\n",
              "      <th>Termination Date</th>\n",
              "      <th>Tenure</th>\n",
              "      <th>Tenure Bucket</th>\n",
              "      <th>Base Pay Mid Point Annualized</th>\n",
              "      <th>Currency Conversion Rate</th>\n",
              "      <th>Generation</th>\n",
              "      <th>Work Structure</th>\n",
              "      <th>Termination Type</th>\n",
              "      <th>Termination Reason</th>\n",
              "      <th>Cost to Replace Employee Multiplier</th>\n",
              "    </tr>\n",
              "  </thead>\n",
              "  <tbody>\n",
              "    <tr>\n",
              "      <th>0</th>\n",
              "      <td>1111</td>\n",
              "      <td>1345_USA BA</td>\n",
              "      <td>Principal Engineer</td>\n",
              "      <td>Engineering</td>\n",
              "      <td>Engineering Professional</td>\n",
              "      <td>Professional</td>\n",
              "      <td>0.675</td>\n",
              "      <td>P6</td>\n",
              "      <td>Cupertino United States</td>\n",
              "      <td>United States</td>\n",
              "      <td>...</td>\n",
              "      <td>2017-09-25</td>\n",
              "      <td>32.194521</td>\n",
              "      <td>20+ Years</td>\n",
              "      <td>270004.8</td>\n",
              "      <td>1.0</td>\n",
              "      <td>Boomer</td>\n",
              "      <td>NaN</td>\n",
              "      <td>Involuntary Termination</td>\n",
              "      <td>Position Elimination / RIF Involuntary</td>\n",
              "      <td>1.25</td>\n",
              "    </tr>\n",
              "    <tr>\n",
              "      <th>1</th>\n",
              "      <td>1112</td>\n",
              "      <td>8804_USA BA</td>\n",
              "      <td>Managing Principal Engineer</td>\n",
              "      <td>Engineering</td>\n",
              "      <td>Management</td>\n",
              "      <td>Management</td>\n",
              "      <td>0.979</td>\n",
              "      <td>M4</td>\n",
              "      <td>Fremont United States</td>\n",
              "      <td>United States</td>\n",
              "      <td>...</td>\n",
              "      <td>2022-02-04</td>\n",
              "      <td>31.079452</td>\n",
              "      <td>20+ Years</td>\n",
              "      <td>203008.0</td>\n",
              "      <td>1.0</td>\n",
              "      <td>Boomer</td>\n",
              "      <td>NaN</td>\n",
              "      <td>Voluntary Termination</td>\n",
              "      <td>Compensation/Pay</td>\n",
              "      <td>1.25</td>\n",
              "    </tr>\n",
              "    <tr>\n",
              "      <th>2</th>\n",
              "      <td>1113</td>\n",
              "      <td>1600_USA NTL</td>\n",
              "      <td>Staff Engineer</td>\n",
              "      <td>Engineering</td>\n",
              "      <td>Engineering Professional</td>\n",
              "      <td>Professional</td>\n",
              "      <td>1.146</td>\n",
              "      <td>P4</td>\n",
              "      <td>Remote US</td>\n",
              "      <td>United States</td>\n",
              "      <td>...</td>\n",
              "      <td>NaT</td>\n",
              "      <td>33.101370</td>\n",
              "      <td>20+ Years</td>\n",
              "      <td>118996.8</td>\n",
              "      <td>1.0</td>\n",
              "      <td>Boomer</td>\n",
              "      <td>Remote</td>\n",
              "      <td>NaN</td>\n",
              "      <td>NaN</td>\n",
              "      <td>1.25</td>\n",
              "    </tr>\n",
              "    <tr>\n",
              "      <th>3</th>\n",
              "      <td>1115</td>\n",
              "      <td>3627_USA BA</td>\n",
              "      <td>Sr Staff Program/Project Manager</td>\n",
              "      <td>Information Technology</td>\n",
              "      <td>Professional</td>\n",
              "      <td>Professional</td>\n",
              "      <td>0.941</td>\n",
              "      <td>P5</td>\n",
              "      <td>Fremont United States</td>\n",
              "      <td>United States</td>\n",
              "      <td>...</td>\n",
              "      <td>NaT</td>\n",
              "      <td>32.969863</td>\n",
              "      <td>20+ Years</td>\n",
              "      <td>184995.2</td>\n",
              "      <td>1.0</td>\n",
              "      <td>Gen X</td>\n",
              "      <td>Onsite</td>\n",
              "      <td>NaN</td>\n",
              "      <td>NaN</td>\n",
              "      <td>1.25</td>\n",
              "    </tr>\n",
              "    <tr>\n",
              "      <th>4</th>\n",
              "      <td>1116</td>\n",
              "      <td>2692_USA NTL</td>\n",
              "      <td>Technologist</td>\n",
              "      <td>Engineering</td>\n",
              "      <td>Engineering Professional</td>\n",
              "      <td>Professional</td>\n",
              "      <td>0.932</td>\n",
              "      <td>P7</td>\n",
              "      <td>Longmont United States</td>\n",
              "      <td>United States</td>\n",
              "      <td>...</td>\n",
              "      <td>NaT</td>\n",
              "      <td>32.947945</td>\n",
              "      <td>20+ Years</td>\n",
              "      <td>249995.2</td>\n",
              "      <td>1.0</td>\n",
              "      <td>Boomer</td>\n",
              "      <td>Onsite</td>\n",
              "      <td>NaN</td>\n",
              "      <td>NaN</td>\n",
              "      <td>1.25</td>\n",
              "    </tr>\n",
              "    <tr>\n",
              "      <th>...</th>\n",
              "      <td>...</td>\n",
              "      <td>...</td>\n",
              "      <td>...</td>\n",
              "      <td>...</td>\n",
              "      <td>...</td>\n",
              "      <td>...</td>\n",
              "      <td>...</td>\n",
              "      <td>...</td>\n",
              "      <td>...</td>\n",
              "      <td>...</td>\n",
              "      <td>...</td>\n",
              "      <td>...</td>\n",
              "      <td>...</td>\n",
              "      <td>...</td>\n",
              "      <td>...</td>\n",
              "      <td>...</td>\n",
              "      <td>...</td>\n",
              "      <td>...</td>\n",
              "      <td>...</td>\n",
              "      <td>...</td>\n",
              "      <td>...</td>\n",
              "    </tr>\n",
              "    <tr>\n",
              "      <th>25990</th>\n",
              "      <td>87558</td>\n",
              "      <td>8809_USA NTL</td>\n",
              "      <td>Managing Principal Engineer</td>\n",
              "      <td>Engineering</td>\n",
              "      <td>Management</td>\n",
              "      <td>Management</td>\n",
              "      <td>1.043</td>\n",
              "      <td>M4</td>\n",
              "      <td>Longmont United States</td>\n",
              "      <td>United States</td>\n",
              "      <td>...</td>\n",
              "      <td>2022-12-07</td>\n",
              "      <td>32.213699</td>\n",
              "      <td>20+ Years</td>\n",
              "      <td>184995.2</td>\n",
              "      <td>1.0</td>\n",
              "      <td>Boomer</td>\n",
              "      <td>Onsite</td>\n",
              "      <td>Involuntary Termination</td>\n",
              "      <td>Position Elimination / RIF Involuntary</td>\n",
              "      <td>1.25</td>\n",
              "    </tr>\n",
              "    <tr>\n",
              "      <th>25991</th>\n",
              "      <td>87559</td>\n",
              "      <td>2042_USA BA</td>\n",
              "      <td>Sr Engineering Director</td>\n",
              "      <td>Engineering</td>\n",
              "      <td>Management</td>\n",
              "      <td>Management</td>\n",
              "      <td>0.841</td>\n",
              "      <td>M6</td>\n",
              "      <td>Fremont United States</td>\n",
              "      <td>United States</td>\n",
              "      <td>...</td>\n",
              "      <td>NaT</td>\n",
              "      <td>33.421918</td>\n",
              "      <td>20+ Years</td>\n",
              "      <td>276993.6</td>\n",
              "      <td>1.0</td>\n",
              "      <td>Gen X</td>\n",
              "      <td>Onsite</td>\n",
              "      <td>NaN</td>\n",
              "      <td>NaN</td>\n",
              "      <td>1.25</td>\n",
              "    </tr>\n",
              "    <tr>\n",
              "      <th>25992</th>\n",
              "      <td>87560</td>\n",
              "      <td>1343_USA NTL</td>\n",
              "      <td>Principal Engineer</td>\n",
              "      <td>Engineering</td>\n",
              "      <td>Engineering Professional</td>\n",
              "      <td>Professional</td>\n",
              "      <td>0.767</td>\n",
              "      <td>P6</td>\n",
              "      <td>Longmont United States</td>\n",
              "      <td>United States</td>\n",
              "      <td>...</td>\n",
              "      <td>2018-10-12</td>\n",
              "      <td>28.002740</td>\n",
              "      <td>20+ Years</td>\n",
              "      <td>243006.4</td>\n",
              "      <td>1.0</td>\n",
              "      <td>Boomer</td>\n",
              "      <td>NaN</td>\n",
              "      <td>Other Termination</td>\n",
              "      <td>Retirement</td>\n",
              "      <td>1.25</td>\n",
              "    </tr>\n",
              "    <tr>\n",
              "      <th>25993</th>\n",
              "      <td>87562</td>\n",
              "      <td>1558_USA NTL</td>\n",
              "      <td>Sr Staff Engineer</td>\n",
              "      <td>Engineering</td>\n",
              "      <td>Engineering Professional</td>\n",
              "      <td>Professional</td>\n",
              "      <td>0.893</td>\n",
              "      <td>P5</td>\n",
              "      <td>Longmont United States</td>\n",
              "      <td>United States</td>\n",
              "      <td>...</td>\n",
              "      <td>2018-10-12</td>\n",
              "      <td>27.947945</td>\n",
              "      <td>20+ Years</td>\n",
              "      <td>167003.2</td>\n",
              "      <td>1.0</td>\n",
              "      <td>Boomer</td>\n",
              "      <td>NaN</td>\n",
              "      <td>Other Termination</td>\n",
              "      <td>Retirement</td>\n",
              "      <td>1.25</td>\n",
              "    </tr>\n",
              "    <tr>\n",
              "      <th>25994</th>\n",
              "      <td>87564</td>\n",
              "      <td>2262_USA BA</td>\n",
              "      <td>Sr Analyst</td>\n",
              "      <td>Finance/Accounting</td>\n",
              "      <td>Professional</td>\n",
              "      <td>Professional</td>\n",
              "      <td>0.595</td>\n",
              "      <td>P3</td>\n",
              "      <td>Cupertino United States</td>\n",
              "      <td>United States</td>\n",
              "      <td>...</td>\n",
              "      <td>2018-09-12</td>\n",
              "      <td>27.827397</td>\n",
              "      <td>20+ Years</td>\n",
              "      <td>171995.2</td>\n",
              "      <td>1.0</td>\n",
              "      <td>Boomer</td>\n",
              "      <td>NaN</td>\n",
              "      <td>Other Termination</td>\n",
              "      <td>End of Career</td>\n",
              "      <td>1.25</td>\n",
              "    </tr>\n",
              "  </tbody>\n",
              "</table>\n",
              "<p>25995 rows × 23 columns</p>\n",
              "</div>\n",
              "    <div class=\"colab-df-buttons\">\n",
              "\n",
              "  <div class=\"colab-df-container\">\n",
              "    <button class=\"colab-df-convert\" onclick=\"convertToInteractive('df-d9b748d1-49c4-42ba-ab11-94a560bba1bd')\"\n",
              "            title=\"Convert this dataframe to an interactive table.\"\n",
              "            style=\"display:none;\">\n",
              "\n",
              "  <svg xmlns=\"http://www.w3.org/2000/svg\" height=\"24px\" viewBox=\"0 -960 960 960\">\n",
              "    <path d=\"M120-120v-720h720v720H120Zm60-500h600v-160H180v160Zm220 220h160v-160H400v160Zm0 220h160v-160H400v160ZM180-400h160v-160H180v160Zm440 0h160v-160H620v160ZM180-180h160v-160H180v160Zm440 0h160v-160H620v160Z\"/>\n",
              "  </svg>\n",
              "    </button>\n",
              "\n",
              "  <style>\n",
              "    .colab-df-container {\n",
              "      display:flex;\n",
              "      gap: 12px;\n",
              "    }\n",
              "\n",
              "    .colab-df-convert {\n",
              "      background-color: #E8F0FE;\n",
              "      border: none;\n",
              "      border-radius: 50%;\n",
              "      cursor: pointer;\n",
              "      display: none;\n",
              "      fill: #1967D2;\n",
              "      height: 32px;\n",
              "      padding: 0 0 0 0;\n",
              "      width: 32px;\n",
              "    }\n",
              "\n",
              "    .colab-df-convert:hover {\n",
              "      background-color: #E2EBFA;\n",
              "      box-shadow: 0px 1px 2px rgba(60, 64, 67, 0.3), 0px 1px 3px 1px rgba(60, 64, 67, 0.15);\n",
              "      fill: #174EA6;\n",
              "    }\n",
              "\n",
              "    .colab-df-buttons div {\n",
              "      margin-bottom: 4px;\n",
              "    }\n",
              "\n",
              "    [theme=dark] .colab-df-convert {\n",
              "      background-color: #3B4455;\n",
              "      fill: #D2E3FC;\n",
              "    }\n",
              "\n",
              "    [theme=dark] .colab-df-convert:hover {\n",
              "      background-color: #434B5C;\n",
              "      box-shadow: 0px 1px 3px 1px rgba(0, 0, 0, 0.15);\n",
              "      filter: drop-shadow(0px 1px 2px rgba(0, 0, 0, 0.3));\n",
              "      fill: #FFFFFF;\n",
              "    }\n",
              "  </style>\n",
              "\n",
              "    <script>\n",
              "      const buttonEl =\n",
              "        document.querySelector('#df-d9b748d1-49c4-42ba-ab11-94a560bba1bd button.colab-df-convert');\n",
              "      buttonEl.style.display =\n",
              "        google.colab.kernel.accessAllowed ? 'block' : 'none';\n",
              "\n",
              "      async function convertToInteractive(key) {\n",
              "        const element = document.querySelector('#df-d9b748d1-49c4-42ba-ab11-94a560bba1bd');\n",
              "        const dataTable =\n",
              "          await google.colab.kernel.invokeFunction('convertToInteractive',\n",
              "                                                    [key], {});\n",
              "        if (!dataTable) return;\n",
              "\n",
              "        const docLinkHtml = 'Like what you see? Visit the ' +\n",
              "          '<a target=\"_blank\" href=https://colab.research.google.com/notebooks/data_table.ipynb>data table notebook</a>'\n",
              "          + ' to learn more about interactive tables.';\n",
              "        element.innerHTML = '';\n",
              "        dataTable['output_type'] = 'display_data';\n",
              "        await google.colab.output.renderOutput(dataTable, element);\n",
              "        const docLink = document.createElement('div');\n",
              "        docLink.innerHTML = docLinkHtml;\n",
              "        element.appendChild(docLink);\n",
              "      }\n",
              "    </script>\n",
              "  </div>\n",
              "\n",
              "\n",
              "<div id=\"df-a9c5c212-ef2f-4496-bd30-629286ed9637\">\n",
              "  <button class=\"colab-df-quickchart\" onclick=\"quickchart('df-a9c5c212-ef2f-4496-bd30-629286ed9637')\"\n",
              "            title=\"Suggest charts\"\n",
              "            style=\"display:none;\">\n",
              "\n",
              "<svg xmlns=\"http://www.w3.org/2000/svg\" height=\"24px\"viewBox=\"0 0 24 24\"\n",
              "     width=\"24px\">\n",
              "    <g>\n",
              "        <path d=\"M19 3H5c-1.1 0-2 .9-2 2v14c0 1.1.9 2 2 2h14c1.1 0 2-.9 2-2V5c0-1.1-.9-2-2-2zM9 17H7v-7h2v7zm4 0h-2V7h2v10zm4 0h-2v-4h2v4z\"/>\n",
              "    </g>\n",
              "</svg>\n",
              "  </button>\n",
              "\n",
              "<style>\n",
              "  .colab-df-quickchart {\n",
              "      --bg-color: #E8F0FE;\n",
              "      --fill-color: #1967D2;\n",
              "      --hover-bg-color: #E2EBFA;\n",
              "      --hover-fill-color: #174EA6;\n",
              "      --disabled-fill-color: #AAA;\n",
              "      --disabled-bg-color: #DDD;\n",
              "  }\n",
              "\n",
              "  [theme=dark] .colab-df-quickchart {\n",
              "      --bg-color: #3B4455;\n",
              "      --fill-color: #D2E3FC;\n",
              "      --hover-bg-color: #434B5C;\n",
              "      --hover-fill-color: #FFFFFF;\n",
              "      --disabled-bg-color: #3B4455;\n",
              "      --disabled-fill-color: #666;\n",
              "  }\n",
              "\n",
              "  .colab-df-quickchart {\n",
              "    background-color: var(--bg-color);\n",
              "    border: none;\n",
              "    border-radius: 50%;\n",
              "    cursor: pointer;\n",
              "    display: none;\n",
              "    fill: var(--fill-color);\n",
              "    height: 32px;\n",
              "    padding: 0;\n",
              "    width: 32px;\n",
              "  }\n",
              "\n",
              "  .colab-df-quickchart:hover {\n",
              "    background-color: var(--hover-bg-color);\n",
              "    box-shadow: 0 1px 2px rgba(60, 64, 67, 0.3), 0 1px 3px 1px rgba(60, 64, 67, 0.15);\n",
              "    fill: var(--button-hover-fill-color);\n",
              "  }\n",
              "\n",
              "  .colab-df-quickchart-complete:disabled,\n",
              "  .colab-df-quickchart-complete:disabled:hover {\n",
              "    background-color: var(--disabled-bg-color);\n",
              "    fill: var(--disabled-fill-color);\n",
              "    box-shadow: none;\n",
              "  }\n",
              "\n",
              "  .colab-df-spinner {\n",
              "    border: 2px solid var(--fill-color);\n",
              "    border-color: transparent;\n",
              "    border-bottom-color: var(--fill-color);\n",
              "    animation:\n",
              "      spin 1s steps(1) infinite;\n",
              "  }\n",
              "\n",
              "  @keyframes spin {\n",
              "    0% {\n",
              "      border-color: transparent;\n",
              "      border-bottom-color: var(--fill-color);\n",
              "      border-left-color: var(--fill-color);\n",
              "    }\n",
              "    20% {\n",
              "      border-color: transparent;\n",
              "      border-left-color: var(--fill-color);\n",
              "      border-top-color: var(--fill-color);\n",
              "    }\n",
              "    30% {\n",
              "      border-color: transparent;\n",
              "      border-left-color: var(--fill-color);\n",
              "      border-top-color: var(--fill-color);\n",
              "      border-right-color: var(--fill-color);\n",
              "    }\n",
              "    40% {\n",
              "      border-color: transparent;\n",
              "      border-right-color: var(--fill-color);\n",
              "      border-top-color: var(--fill-color);\n",
              "    }\n",
              "    60% {\n",
              "      border-color: transparent;\n",
              "      border-right-color: var(--fill-color);\n",
              "    }\n",
              "    80% {\n",
              "      border-color: transparent;\n",
              "      border-right-color: var(--fill-color);\n",
              "      border-bottom-color: var(--fill-color);\n",
              "    }\n",
              "    90% {\n",
              "      border-color: transparent;\n",
              "      border-bottom-color: var(--fill-color);\n",
              "    }\n",
              "  }\n",
              "</style>\n",
              "\n",
              "  <script>\n",
              "    async function quickchart(key) {\n",
              "      const quickchartButtonEl =\n",
              "        document.querySelector('#' + key + ' button');\n",
              "      quickchartButtonEl.disabled = true;  // To prevent multiple clicks.\n",
              "      quickchartButtonEl.classList.add('colab-df-spinner');\n",
              "      try {\n",
              "        const charts = await google.colab.kernel.invokeFunction(\n",
              "            'suggestCharts', [key], {});\n",
              "      } catch (error) {\n",
              "        console.error('Error during call to suggestCharts:', error);\n",
              "      }\n",
              "      quickchartButtonEl.classList.remove('colab-df-spinner');\n",
              "      quickchartButtonEl.classList.add('colab-df-quickchart-complete');\n",
              "    }\n",
              "    (() => {\n",
              "      let quickchartButtonEl =\n",
              "        document.querySelector('#df-a9c5c212-ef2f-4496-bd30-629286ed9637 button');\n",
              "      quickchartButtonEl.style.display =\n",
              "        google.colab.kernel.accessAllowed ? 'block' : 'none';\n",
              "    })();\n",
              "  </script>\n",
              "</div>\n",
              "    </div>\n",
              "  </div>\n"
            ],
            "application/vnd.google.colaboratory.intrinsic+json": {
              "type": "dataframe",
              "variable_name": "sg"
            }
          },
          "metadata": {},
          "execution_count": 8
        }
      ]
    },
    {
      "cell_type": "markdown",
      "source": [
        "***DATA CLEANING AND INSPECTING***"
      ],
      "metadata": {
        "id": "Gvc3R_68g97A"
      }
    },
    {
      "cell_type": "markdown",
      "source": [
        "**** Column Name Editing ****"
      ],
      "metadata": {
        "id": "vfSmtgTQqGmK"
      }
    },
    {
      "cell_type": "code",
      "source": [
        "df.columns = df.columns.str.lower()"
      ],
      "metadata": {
        "id": "MZKenItPbIQ9"
      },
      "execution_count": null,
      "outputs": []
    },
    {
      "cell_type": "code",
      "source": [
        "df = df.rename(columns={'annonymized id': 'anon id', 'termination reason ': 'termination reason'})"
      ],
      "metadata": {
        "id": "4LxM1aNjdSYm"
      },
      "execution_count": null,
      "outputs": []
    },
    {
      "cell_type": "markdown",
      "source": [
        "*** Dropping NA's ***"
      ],
      "metadata": {
        "id": "Pc3t_HGEqLlE"
      }
    },
    {
      "cell_type": "code",
      "source": [
        "df = df.dropna(subset=['generation', 'pay level', 'currency conversion rate']).drop_duplicates()"
      ],
      "metadata": {
        "id": "QOoeAswtTjwN"
      },
      "execution_count": null,
      "outputs": []
    },
    {
      "cell_type": "markdown",
      "source": [
        "*** Editing Work Country / Location / Structure for clarity ***"
      ],
      "metadata": {
        "id": "YE84UbGHt_eT"
      }
    },
    {
      "cell_type": "code",
      "source": [
        "# removing work country from work location, given we have a work country column already\n",
        "df['work location'] = df.apply(lambda row: row['work location'].replace(row['work country'], '').strip(), axis=1)\n",
        "df = df.rename(columns = {'work location':'work city'})"
      ],
      "metadata": {
        "id": "VyU5_byMrEii"
      },
      "execution_count": null,
      "outputs": []
    },
    {
      "cell_type": "code",
      "source": [
        "# editing work city names\n",
        "df['work city'] = df['work city'].replace({'Remote  - British Columbia': 'British Columbia',\n",
        "                                         'Portland, Oregon': 'Portland',\n",
        "                                         'Remote Republic of': 'Ireland',\n",
        "                                         'Remote  - Ontario': 'Ontario',\n",
        "                                         'Remote Northern Ireland': 'N Ireland',\n",
        "                                          '': 'Hong Kong'})\n"
      ],
      "metadata": {
        "id": "7hXouO4ZVP-G"
      },
      "execution_count": null,
      "outputs": []
    },
    {
      "cell_type": "markdown",
      "source": [
        "*** Tenure Rounding ***"
      ],
      "metadata": {
        "id": "4-fkvhJYw28y"
      }
    },
    {
      "cell_type": "code",
      "source": [
        "df['tenure'] = df['tenure'].round(2)"
      ],
      "metadata": {
        "id": "Mtfrx-hQw6qt"
      },
      "execution_count": null,
      "outputs": []
    },
    {
      "cell_type": "markdown",
      "source": [
        "*** Feature Engineering ***"
      ],
      "metadata": {
        "id": "0J-A3n_WqPe8"
      }
    },
    {
      "cell_type": "code",
      "source": [
        "# feature engineering - cost to replace employee\n",
        "df['cost to replace employee'] = df['base pay mid point annualized'] * df['cost to replace employee multiplier']"
      ],
      "metadata": {
        "id": "TylMQntRj6Jx"
      },
      "execution_count": null,
      "outputs": []
    },
    {
      "cell_type": "code",
      "source": [
        "# currency conversion\n",
        "df['usd base pay mid point'] = df['base pay mid point annualized'] * df['currency conversion rate']\n",
        "df = df.drop(['base pay mid point annualized', 'currency conversion rate'], axis=1)"
      ],
      "metadata": {
        "id": "cNc4bRBdgyb3"
      },
      "execution_count": null,
      "outputs": []
    },
    {
      "cell_type": "markdown",
      "source": [
        "*** Sanity Checking Compa Ratio / dropping excessive values ***"
      ],
      "metadata": {
        "id": "yP59Fu1kqUr6"
      }
    },
    {
      "cell_type": "code",
      "source": [
        "df = df[df['compa ratio'] <= 2]\n",
        "df = df[df['compa ratio'] >= .25]"
      ],
      "metadata": {
        "id": "lV4flqXqodeZ"
      },
      "execution_count": null,
      "outputs": []
    },
    {
      "cell_type": "code",
      "source": [
        "# removing the 6 mystery nulls in work city\n",
        "df = df.dropna(subset = ['work city'])"
      ],
      "metadata": {
        "id": "9rjIOdUt-589"
      },
      "execution_count": null,
      "outputs": []
    },
    {
      "cell_type": "code",
      "source": [
        "# filling work structure NA's\n",
        "df['work structure'] = df['work structure'].fillna('Onsite')"
      ],
      "metadata": {
        "id": "eLqZ9u_9klK-"
      },
      "execution_count": null,
      "outputs": []
    },
    {
      "cell_type": "code",
      "source": [
        "# keeping only active employees\n",
        "df = df.drop(df[(df['termination type'] == 'Involuntary Termination') |\n",
        " (df['termination type'] == 'Other Termination') |\n",
        "  (df['termination type'] == 'Release Termination') |\n",
        "   (df['termination type'] == 'No Show') |\n",
        "   (df['termination type'] == 'Voluntary Termination')].index)\n"
      ],
      "metadata": {
        "id": "OA1dYvM2_a-T"
      },
      "execution_count": null,
      "outputs": []
    },
    {
      "cell_type": "code",
      "source": [
        "bins = [0, 0.25, 0.5, 0.75, 1, float('inf')]\n",
        "\n",
        "# Define the bin labels\n",
        "labels = ['1-25%', '25-50%', '50-75%', '75-100%', '100%+']\n",
        "\n",
        "# Bin the 'compensation ratio' column\n",
        "df['compa bucket'] = pd.cut(df['compa ratio'], bins=bins, labels=labels, right=False)\n"
      ],
      "metadata": {
        "id": "OUsJt1uDBGu_"
      },
      "execution_count": null,
      "outputs": []
    },
    {
      "cell_type": "code",
      "source": [
        "# Define the bin edges for tenure\n",
        "tenure_bins = [0, 1, 5, 10, 20, float('inf')]\n",
        "\n",
        "# Define the bin labels for tenure\n",
        "tenure_labels = ['<1', '1-5', '5-10', '10-20', '20+']\n",
        "\n",
        "# Custom function to map and bin the 'tenure bucket' column\n",
        "def map_and_bin_tenure(bucket):\n",
        "    if bucket == '< 1 Year':\n",
        "        return '0'\n",
        "    elif bucket == '1 - 3 Years':\n",
        "        return '3'\n",
        "    elif bucket == '3 - 5 Years':\n",
        "        return '2'\n",
        "    elif bucket == '5 - 10 Years':\n",
        "        return '3'\n",
        "    elif bucket == '10 - 20 Years':\n",
        "        return '4'\n",
        "    elif bucket == '20+ Years':\n",
        "        return '5'\n",
        "    else:\n",
        "        return None\n",
        "\n",
        "# Apply the custom function to map and bin the 'tenure bucket' column\n",
        "df['tenure bucket'] = df['tenure bucket'].apply(map_and_bin_tenure)"
      ],
      "metadata": {
        "id": "-7spK7f3MBni"
      },
      "execution_count": null,
      "outputs": []
    },
    {
      "cell_type": "code",
      "source": [
        "df['tenure bucket'] = df['tenure bucket'].astype(str).astype(int)"
      ],
      "metadata": {
        "id": "HfblBW2aPJPk"
      },
      "execution_count": null,
      "outputs": []
    },
    {
      "cell_type": "code",
      "source": [
        "# df['termination date'] = pd.to_datetime(df['termination date'])\n",
        "# df['quarter'] = df['termination date'].dt.year.astype(str) + ' Q' + df['termination date'].dt.quarter.astype(str)"
      ],
      "metadata": {
        "id": "dbZVjy43KgXt"
      },
      "execution_count": null,
      "outputs": []
    },
    {
      "cell_type": "code",
      "source": [
        "# # Create a list of years from 2016 to 2024\n",
        "# years = range(2016, 2025)\n",
        "\n",
        "# # Create an empty DataFrame to store the results\n",
        "# df_quarters = pd.DataFrame()\n",
        "\n",
        "# # Loop through each year and quarter\n",
        "# for year in years:\n",
        "#     for quarter in range(1, 5):  # Quarters range from 1 to 4\n",
        "#         quarter_name = f\"{year} Q{quarter}\"\n",
        "#         df_quarters[quarter_name] = np.where(df['quarter'] <= f\"{year}-Q{quarter}\", \"Active\", \"NaN\")\n",
        "\n",
        "# # Concatenate the new DataFrame with df\n",
        "# df = pd.concat([df, df_quarters], axis=1)"
      ],
      "metadata": {
        "id": "W2jIQR3pQsy6"
      },
      "execution_count": null,
      "outputs": []
    },
    {
      "cell_type": "code",
      "source": [
        "df = df.drop(columns = ['job code', 'employee status', 'termination date',\n",
        "      'termination reason', 'termination type','cost to replace employee multiplier', 'cost to replace employee',\n",
        "       'usd base pay mid point', 'compa ratio', # created compa bucket"
      ],
      "metadata": {
        "id": "_xRa02n9AM7l"
      },
      "execution_count": null,
      "outputs": []
    },
    {
      "cell_type": "code",
      "source": [
        "df.shape"
      ],
      "metadata": {
        "id": "_QvL4kRRxnOD",
        "outputId": "88be2803-46f3-4a6a-a523-330f7174a10d",
        "colab": {
          "base_uri": "https://localhost:8080/"
        }
      },
      "execution_count": null,
      "outputs": [
        {
          "output_type": "execute_result",
          "data": {
            "text/plain": [
              "(11668, 14)"
            ]
          },
          "metadata": {},
          "execution_count": 30
        }
      ]
    },
    {
      "cell_type": "code",
      "source": [
        "df = df.reset_index(drop=True)"
      ],
      "metadata": {
        "id": "b-59OfT0N87M"
      },
      "execution_count": null,
      "outputs": []
    },
    {
      "cell_type": "markdown",
      "source": [
        "*** EXPORT CLEAN DATA ***"
      ],
      "metadata": {
        "id": "oXya6AUBjJ1H"
      }
    },
    {
      "cell_type": "code",
      "source": [
        "df.to_csv('active_clean_df_copy.csv', index=False)"
      ],
      "metadata": {
        "id": "ZOs2mhr5jE3r"
      },
      "execution_count": null,
      "outputs": []
    }
  ]
}