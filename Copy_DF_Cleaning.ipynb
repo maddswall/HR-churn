{
  "nbformat": 4,
  "nbformat_minor": 0,
  "metadata": {
    "colab": {
      "provenance": []
    },
    "kernelspec": {
      "name": "python3",
      "display_name": "Python 3"
    },
    "language_info": {
      "name": "python"
    }
  },
  "cells": [
    {
      "cell_type": "code",
      "execution_count": null,
      "metadata": {
        "id": "73jAcHVufJZv"
      },
      "outputs": [],
      "source": [
        "import pandas as pd\n",
        "import numpy as np\n",
        "import matplotlib.pyplot as plt\n",
        "import seaborn as sns\n",
        "from scipy import stats\n",
        "import datetime\n"
      ]
    },
    {
      "cell_type": "code",
      "source": [
        "from google.colab import drive\n",
        "drive.mount('/content/drive')"
      ],
      "metadata": {
        "id": "7qhrqNFGf6i_",
        "colab": {
          "base_uri": "https://localhost:8080/"
        },
        "outputId": "cb24332a-f72d-4b96-bee3-3f7847e05128"
      },
      "execution_count": null,
      "outputs": [
        {
          "output_type": "stream",
          "name": "stdout",
          "text": [
            "Mounted at /content/drive\n"
          ]
        }
      ]
    },
    {
      "cell_type": "code",
      "source": [
        "df1 = pd.read_excel('/content/drive/MyDrive/Exp_Proj_5490/Project/EP5490_Data.xlsx')"
      ],
      "metadata": {
        "id": "-yjC9Mk7f1o4"
      },
      "execution_count": null,
      "outputs": []
    },
    {
      "cell_type": "code",
      "source": [
        "df = df1.copy()"
      ],
      "metadata": {
        "id": "37510DW5-jGf"
      },
      "execution_count": null,
      "outputs": []
    },
    {
      "cell_type": "markdown",
      "source": [
        "***DATA CLEANING AND INSPECTING***"
      ],
      "metadata": {
        "id": "Gvc3R_68g97A"
      }
    },
    {
      "cell_type": "code",
      "source": [
        "df.isnull().sum()"
      ],
      "metadata": {
        "colab": {
          "base_uri": "https://localhost:8080/"
        },
        "id": "9s5TlX3KcG_K",
        "outputId": "98a5f05c-9a6b-4ff1-f566-4e5ad83e6110"
      },
      "execution_count": null,
      "outputs": [
        {
          "output_type": "execute_result",
          "data": {
            "text/plain": [
              "Annonymized ID                             0\n",
              "Job Code                                   0\n",
              "Job Title                                  0\n",
              "Job Function                               0\n",
              "Job Category                               0\n",
              "Job Group                                  0\n",
              "Compa Ratio                                0\n",
              "Pay Level                                  5\n",
              "Work Location                              0\n",
              "Work Country                               0\n",
              "Work Region                                0\n",
              "Gender                                     0\n",
              "Employee Status                            0\n",
              "Termination Date                       11668\n",
              "Tenure                                     0\n",
              "Tenure Bucket                              0\n",
              "Base Pay Mid Point Annualized              0\n",
              "Currency Conversion Rate                   5\n",
              "Generation                                 1\n",
              "Work Structure                          8947\n",
              "Termination Type                       11668\n",
              "Termination Reason                     11669\n",
              "Cost to Replace Employee Multiplier        0\n",
              "dtype: int64"
            ]
          },
          "metadata": {},
          "execution_count": 5
        }
      ]
    },
    {
      "cell_type": "markdown",
      "source": [
        "**** Column Name Editing ****"
      ],
      "metadata": {
        "id": "vfSmtgTQqGmK"
      }
    },
    {
      "cell_type": "code",
      "source": [
        "# before lowercase\n",
        "df.columns"
      ],
      "metadata": {
        "colab": {
          "base_uri": "https://localhost:8080/"
        },
        "id": "QEzwdpvQ2i37",
        "outputId": "7b162808-2970-4341-ede5-7b16ee7d0911"
      },
      "execution_count": null,
      "outputs": [
        {
          "output_type": "execute_result",
          "data": {
            "text/plain": [
              "Index(['Annonymized ID', 'Job Code', 'Job Title', 'Job Function',\n",
              "       'Job Category', 'Job Group', 'Compa Ratio', 'Pay Level',\n",
              "       'Work Location', 'Work Country', 'Work Region', 'Gender',\n",
              "       'Employee Status', 'Termination Date', 'Tenure', 'Tenure Bucket',\n",
              "       'Base Pay Mid Point Annualized', 'Currency Conversion Rate',\n",
              "       'Generation', 'Work Structure', 'Termination Type',\n",
              "       'Termination Reason ', 'Cost to Replace Employee Multiplier'],\n",
              "      dtype='object')"
            ]
          },
          "metadata": {},
          "execution_count": 6
        }
      ]
    },
    {
      "cell_type": "code",
      "source": [
        "df.columns = df.columns.str.lower()"
      ],
      "metadata": {
        "id": "MZKenItPbIQ9"
      },
      "execution_count": null,
      "outputs": []
    },
    {
      "cell_type": "code",
      "source": [
        "df = df.rename(columns={'annonymized id': 'anon id', 'termination reason ': 'termination reason'})"
      ],
      "metadata": {
        "id": "4LxM1aNjdSYm"
      },
      "execution_count": null,
      "outputs": []
    },
    {
      "cell_type": "code",
      "source": [
        "# after lowercase and editing\n",
        "df.columns"
      ],
      "metadata": {
        "colab": {
          "base_uri": "https://localhost:8080/"
        },
        "id": "x0D3Nh_e2ojP",
        "outputId": "2685df71-246e-4edb-99f5-0bfac715fbaf"
      },
      "execution_count": null,
      "outputs": [
        {
          "output_type": "execute_result",
          "data": {
            "text/plain": [
              "Index(['anon id', 'job code', 'job title', 'job function', 'job category',\n",
              "       'job group', 'compa ratio', 'pay level', 'work location',\n",
              "       'work country', 'work region', 'gender', 'employee status',\n",
              "       'termination date', 'tenure', 'tenure bucket',\n",
              "       'base pay mid point annualized', 'currency conversion rate',\n",
              "       'generation', 'work structure', 'termination type',\n",
              "       'termination reason', 'cost to replace employee multiplier'],\n",
              "      dtype='object')"
            ]
          },
          "metadata": {},
          "execution_count": 9
        }
      ]
    },
    {
      "cell_type": "markdown",
      "source": [
        "*** Dropping NA's and duplicates ***"
      ],
      "metadata": {
        "id": "Pc3t_HGEqLlE"
      }
    },
    {
      "cell_type": "code",
      "source": [
        "df = df.dropna(subset=['generation', 'pay level', 'currency conversion rate']).drop_duplicates()"
      ],
      "metadata": {
        "id": "XSBP8aX2JU49"
      },
      "execution_count": null,
      "outputs": []
    },
    {
      "cell_type": "markdown",
      "source": [
        "*** Editing Work Country / Location / Structure for clarity ***"
      ],
      "metadata": {
        "id": "YE84UbGHt_eT"
      }
    },
    {
      "cell_type": "code",
      "source": [
        "# before\n",
        "df['work location'].tail(10)"
      ],
      "metadata": {
        "colab": {
          "base_uri": "https://localhost:8080/"
        },
        "id": "sgmYmK0z3YGo",
        "outputId": "0b5fde8c-256a-4998-aceb-53f7930240ad"
      },
      "execution_count": null,
      "outputs": [
        {
          "output_type": "execute_result",
          "data": {
            "text/plain": [
              "25985      Fremont United States\n",
              "25986      Fremont United States\n",
              "25987      Fremont United States\n",
              "25988     Longmont United States\n",
              "25989      Fremont United States\n",
              "25990     Longmont United States\n",
              "25991      Fremont United States\n",
              "25992     Longmont United States\n",
              "25993     Longmont United States\n",
              "25994    Cupertino United States\n",
              "Name: work location, dtype: object"
            ]
          },
          "metadata": {},
          "execution_count": 11
        }
      ]
    },
    {
      "cell_type": "code",
      "source": [
        "# removing work country from work location, given we have a work country column already\n",
        "df['work location'] = df.apply(lambda row: row['work location'].replace(row['work country'], '').strip(), axis=1)\n",
        "df = df.rename(columns = {'work location':'work city'})"
      ],
      "metadata": {
        "id": "VyU5_byMrEii"
      },
      "execution_count": null,
      "outputs": []
    },
    {
      "cell_type": "code",
      "source": [
        "# editing work city names\n",
        "df['work city'] = df['work city'].replace({'Remote  - British Columbia': 'British Columbia',\n",
        "                                         'Portland, Oregon': 'Portland',\n",
        "                                         'Remote Republic of': 'Ireland',\n",
        "                                         'Remote  - Ontario': 'Ontario',\n",
        "                                         'Remote Northern Ireland': 'N Ireland',\n",
        "                                          '': 'Hong Kong'})\n"
      ],
      "metadata": {
        "id": "7hXouO4ZVP-G"
      },
      "execution_count": null,
      "outputs": []
    },
    {
      "cell_type": "code",
      "source": [
        "df[['work city', 'work country']].tail(10)"
      ],
      "metadata": {
        "colab": {
          "base_uri": "https://localhost:8080/",
          "height": 362
        },
        "id": "kDUGu9PsdFgQ",
        "outputId": "0cd289d1-1ed0-4d58-f3ac-b0a23dad17ec"
      },
      "execution_count": null,
      "outputs": [
        {
          "output_type": "execute_result",
          "data": {
            "text/plain": [
              "       work city   work country\n",
              "25985    Fremont  United States\n",
              "25986    Fremont  United States\n",
              "25987    Fremont  United States\n",
              "25988   Longmont  United States\n",
              "25989    Fremont  United States\n",
              "25990   Longmont  United States\n",
              "25991    Fremont  United States\n",
              "25992   Longmont  United States\n",
              "25993   Longmont  United States\n",
              "25994  Cupertino  United States"
            ],
            "text/html": [
              "\n",
              "  <div id=\"df-413d3e1b-d450-4661-aedc-fa909e95852c\" class=\"colab-df-container\">\n",
              "    <div>\n",
              "<style scoped>\n",
              "    .dataframe tbody tr th:only-of-type {\n",
              "        vertical-align: middle;\n",
              "    }\n",
              "\n",
              "    .dataframe tbody tr th {\n",
              "        vertical-align: top;\n",
              "    }\n",
              "\n",
              "    .dataframe thead th {\n",
              "        text-align: right;\n",
              "    }\n",
              "</style>\n",
              "<table border=\"1\" class=\"dataframe\">\n",
              "  <thead>\n",
              "    <tr style=\"text-align: right;\">\n",
              "      <th></th>\n",
              "      <th>work city</th>\n",
              "      <th>work country</th>\n",
              "    </tr>\n",
              "  </thead>\n",
              "  <tbody>\n",
              "    <tr>\n",
              "      <th>25985</th>\n",
              "      <td>Fremont</td>\n",
              "      <td>United States</td>\n",
              "    </tr>\n",
              "    <tr>\n",
              "      <th>25986</th>\n",
              "      <td>Fremont</td>\n",
              "      <td>United States</td>\n",
              "    </tr>\n",
              "    <tr>\n",
              "      <th>25987</th>\n",
              "      <td>Fremont</td>\n",
              "      <td>United States</td>\n",
              "    </tr>\n",
              "    <tr>\n",
              "      <th>25988</th>\n",
              "      <td>Longmont</td>\n",
              "      <td>United States</td>\n",
              "    </tr>\n",
              "    <tr>\n",
              "      <th>25989</th>\n",
              "      <td>Fremont</td>\n",
              "      <td>United States</td>\n",
              "    </tr>\n",
              "    <tr>\n",
              "      <th>25990</th>\n",
              "      <td>Longmont</td>\n",
              "      <td>United States</td>\n",
              "    </tr>\n",
              "    <tr>\n",
              "      <th>25991</th>\n",
              "      <td>Fremont</td>\n",
              "      <td>United States</td>\n",
              "    </tr>\n",
              "    <tr>\n",
              "      <th>25992</th>\n",
              "      <td>Longmont</td>\n",
              "      <td>United States</td>\n",
              "    </tr>\n",
              "    <tr>\n",
              "      <th>25993</th>\n",
              "      <td>Longmont</td>\n",
              "      <td>United States</td>\n",
              "    </tr>\n",
              "    <tr>\n",
              "      <th>25994</th>\n",
              "      <td>Cupertino</td>\n",
              "      <td>United States</td>\n",
              "    </tr>\n",
              "  </tbody>\n",
              "</table>\n",
              "</div>\n",
              "    <div class=\"colab-df-buttons\">\n",
              "\n",
              "  <div class=\"colab-df-container\">\n",
              "    <button class=\"colab-df-convert\" onclick=\"convertToInteractive('df-413d3e1b-d450-4661-aedc-fa909e95852c')\"\n",
              "            title=\"Convert this dataframe to an interactive table.\"\n",
              "            style=\"display:none;\">\n",
              "\n",
              "  <svg xmlns=\"http://www.w3.org/2000/svg\" height=\"24px\" viewBox=\"0 -960 960 960\">\n",
              "    <path d=\"M120-120v-720h720v720H120Zm60-500h600v-160H180v160Zm220 220h160v-160H400v160Zm0 220h160v-160H400v160ZM180-400h160v-160H180v160Zm440 0h160v-160H620v160ZM180-180h160v-160H180v160Zm440 0h160v-160H620v160Z\"/>\n",
              "  </svg>\n",
              "    </button>\n",
              "\n",
              "  <style>\n",
              "    .colab-df-container {\n",
              "      display:flex;\n",
              "      gap: 12px;\n",
              "    }\n",
              "\n",
              "    .colab-df-convert {\n",
              "      background-color: #E8F0FE;\n",
              "      border: none;\n",
              "      border-radius: 50%;\n",
              "      cursor: pointer;\n",
              "      display: none;\n",
              "      fill: #1967D2;\n",
              "      height: 32px;\n",
              "      padding: 0 0 0 0;\n",
              "      width: 32px;\n",
              "    }\n",
              "\n",
              "    .colab-df-convert:hover {\n",
              "      background-color: #E2EBFA;\n",
              "      box-shadow: 0px 1px 2px rgba(60, 64, 67, 0.3), 0px 1px 3px 1px rgba(60, 64, 67, 0.15);\n",
              "      fill: #174EA6;\n",
              "    }\n",
              "\n",
              "    .colab-df-buttons div {\n",
              "      margin-bottom: 4px;\n",
              "    }\n",
              "\n",
              "    [theme=dark] .colab-df-convert {\n",
              "      background-color: #3B4455;\n",
              "      fill: #D2E3FC;\n",
              "    }\n",
              "\n",
              "    [theme=dark] .colab-df-convert:hover {\n",
              "      background-color: #434B5C;\n",
              "      box-shadow: 0px 1px 3px 1px rgba(0, 0, 0, 0.15);\n",
              "      filter: drop-shadow(0px 1px 2px rgba(0, 0, 0, 0.3));\n",
              "      fill: #FFFFFF;\n",
              "    }\n",
              "  </style>\n",
              "\n",
              "    <script>\n",
              "      const buttonEl =\n",
              "        document.querySelector('#df-413d3e1b-d450-4661-aedc-fa909e95852c button.colab-df-convert');\n",
              "      buttonEl.style.display =\n",
              "        google.colab.kernel.accessAllowed ? 'block' : 'none';\n",
              "\n",
              "      async function convertToInteractive(key) {\n",
              "        const element = document.querySelector('#df-413d3e1b-d450-4661-aedc-fa909e95852c');\n",
              "        const dataTable =\n",
              "          await google.colab.kernel.invokeFunction('convertToInteractive',\n",
              "                                                    [key], {});\n",
              "        if (!dataTable) return;\n",
              "\n",
              "        const docLinkHtml = 'Like what you see? Visit the ' +\n",
              "          '<a target=\"_blank\" href=https://colab.research.google.com/notebooks/data_table.ipynb>data table notebook</a>'\n",
              "          + ' to learn more about interactive tables.';\n",
              "        element.innerHTML = '';\n",
              "        dataTable['output_type'] = 'display_data';\n",
              "        await google.colab.output.renderOutput(dataTable, element);\n",
              "        const docLink = document.createElement('div');\n",
              "        docLink.innerHTML = docLinkHtml;\n",
              "        element.appendChild(docLink);\n",
              "      }\n",
              "    </script>\n",
              "  </div>\n",
              "\n",
              "\n",
              "<div id=\"df-0926952e-dd91-4ec1-a29c-d22a00bab613\">\n",
              "  <button class=\"colab-df-quickchart\" onclick=\"quickchart('df-0926952e-dd91-4ec1-a29c-d22a00bab613')\"\n",
              "            title=\"Suggest charts\"\n",
              "            style=\"display:none;\">\n",
              "\n",
              "<svg xmlns=\"http://www.w3.org/2000/svg\" height=\"24px\"viewBox=\"0 0 24 24\"\n",
              "     width=\"24px\">\n",
              "    <g>\n",
              "        <path d=\"M19 3H5c-1.1 0-2 .9-2 2v14c0 1.1.9 2 2 2h14c1.1 0 2-.9 2-2V5c0-1.1-.9-2-2-2zM9 17H7v-7h2v7zm4 0h-2V7h2v10zm4 0h-2v-4h2v4z\"/>\n",
              "    </g>\n",
              "</svg>\n",
              "  </button>\n",
              "\n",
              "<style>\n",
              "  .colab-df-quickchart {\n",
              "      --bg-color: #E8F0FE;\n",
              "      --fill-color: #1967D2;\n",
              "      --hover-bg-color: #E2EBFA;\n",
              "      --hover-fill-color: #174EA6;\n",
              "      --disabled-fill-color: #AAA;\n",
              "      --disabled-bg-color: #DDD;\n",
              "  }\n",
              "\n",
              "  [theme=dark] .colab-df-quickchart {\n",
              "      --bg-color: #3B4455;\n",
              "      --fill-color: #D2E3FC;\n",
              "      --hover-bg-color: #434B5C;\n",
              "      --hover-fill-color: #FFFFFF;\n",
              "      --disabled-bg-color: #3B4455;\n",
              "      --disabled-fill-color: #666;\n",
              "  }\n",
              "\n",
              "  .colab-df-quickchart {\n",
              "    background-color: var(--bg-color);\n",
              "    border: none;\n",
              "    border-radius: 50%;\n",
              "    cursor: pointer;\n",
              "    display: none;\n",
              "    fill: var(--fill-color);\n",
              "    height: 32px;\n",
              "    padding: 0;\n",
              "    width: 32px;\n",
              "  }\n",
              "\n",
              "  .colab-df-quickchart:hover {\n",
              "    background-color: var(--hover-bg-color);\n",
              "    box-shadow: 0 1px 2px rgba(60, 64, 67, 0.3), 0 1px 3px 1px rgba(60, 64, 67, 0.15);\n",
              "    fill: var(--button-hover-fill-color);\n",
              "  }\n",
              "\n",
              "  .colab-df-quickchart-complete:disabled,\n",
              "  .colab-df-quickchart-complete:disabled:hover {\n",
              "    background-color: var(--disabled-bg-color);\n",
              "    fill: var(--disabled-fill-color);\n",
              "    box-shadow: none;\n",
              "  }\n",
              "\n",
              "  .colab-df-spinner {\n",
              "    border: 2px solid var(--fill-color);\n",
              "    border-color: transparent;\n",
              "    border-bottom-color: var(--fill-color);\n",
              "    animation:\n",
              "      spin 1s steps(1) infinite;\n",
              "  }\n",
              "\n",
              "  @keyframes spin {\n",
              "    0% {\n",
              "      border-color: transparent;\n",
              "      border-bottom-color: var(--fill-color);\n",
              "      border-left-color: var(--fill-color);\n",
              "    }\n",
              "    20% {\n",
              "      border-color: transparent;\n",
              "      border-left-color: var(--fill-color);\n",
              "      border-top-color: var(--fill-color);\n",
              "    }\n",
              "    30% {\n",
              "      border-color: transparent;\n",
              "      border-left-color: var(--fill-color);\n",
              "      border-top-color: var(--fill-color);\n",
              "      border-right-color: var(--fill-color);\n",
              "    }\n",
              "    40% {\n",
              "      border-color: transparent;\n",
              "      border-right-color: var(--fill-color);\n",
              "      border-top-color: var(--fill-color);\n",
              "    }\n",
              "    60% {\n",
              "      border-color: transparent;\n",
              "      border-right-color: var(--fill-color);\n",
              "    }\n",
              "    80% {\n",
              "      border-color: transparent;\n",
              "      border-right-color: var(--fill-color);\n",
              "      border-bottom-color: var(--fill-color);\n",
              "    }\n",
              "    90% {\n",
              "      border-color: transparent;\n",
              "      border-bottom-color: var(--fill-color);\n",
              "    }\n",
              "  }\n",
              "</style>\n",
              "\n",
              "  <script>\n",
              "    async function quickchart(key) {\n",
              "      const quickchartButtonEl =\n",
              "        document.querySelector('#' + key + ' button');\n",
              "      quickchartButtonEl.disabled = true;  // To prevent multiple clicks.\n",
              "      quickchartButtonEl.classList.add('colab-df-spinner');\n",
              "      try {\n",
              "        const charts = await google.colab.kernel.invokeFunction(\n",
              "            'suggestCharts', [key], {});\n",
              "      } catch (error) {\n",
              "        console.error('Error during call to suggestCharts:', error);\n",
              "      }\n",
              "      quickchartButtonEl.classList.remove('colab-df-spinner');\n",
              "      quickchartButtonEl.classList.add('colab-df-quickchart-complete');\n",
              "    }\n",
              "    (() => {\n",
              "      let quickchartButtonEl =\n",
              "        document.querySelector('#df-0926952e-dd91-4ec1-a29c-d22a00bab613 button');\n",
              "      quickchartButtonEl.style.display =\n",
              "        google.colab.kernel.accessAllowed ? 'block' : 'none';\n",
              "    })();\n",
              "  </script>\n",
              "</div>\n",
              "    </div>\n",
              "  </div>\n"
            ],
            "application/vnd.google.colaboratory.intrinsic+json": {
              "type": "dataframe",
              "summary": "{\n  \"name\": \"sg[['work city', 'work country']]\",\n  \"rows\": 10,\n  \"fields\": [\n    {\n      \"column\": \"work city\",\n      \"properties\": {\n        \"dtype\": \"category\",\n        \"num_unique_values\": 3,\n        \"samples\": [\n          \"Fremont\",\n          \"Longmont\",\n          \"Cupertino\"\n        ],\n        \"semantic_type\": \"\",\n        \"description\": \"\"\n      }\n    },\n    {\n      \"column\": \"work country\",\n      \"properties\": {\n        \"dtype\": \"category\",\n        \"num_unique_values\": 1,\n        \"samples\": [\n          \"United States\"\n        ],\n        \"semantic_type\": \"\",\n        \"description\": \"\"\n      }\n    }\n  ]\n}"
            }
          },
          "metadata": {},
          "execution_count": 14
        }
      ]
    },
    {
      "cell_type": "markdown",
      "source": [
        "*** Tenure Rounding ***"
      ],
      "metadata": {
        "id": "4-fkvhJYw28y"
      }
    },
    {
      "cell_type": "code",
      "source": [
        "df['tenure']"
      ],
      "metadata": {
        "colab": {
          "base_uri": "https://localhost:8080/"
        },
        "id": "d4ZFURA14Elk",
        "outputId": "1928ddc0-eda9-4a54-b390-7f7b3086f476"
      },
      "execution_count": null,
      "outputs": [
        {
          "output_type": "execute_result",
          "data": {
            "text/plain": [
              "0        32.194521\n",
              "1        31.079452\n",
              "2        33.101370\n",
              "3        32.969863\n",
              "4        32.947945\n",
              "           ...    \n",
              "25990    32.213699\n",
              "25991    33.421918\n",
              "25992    28.002740\n",
              "25993    27.947945\n",
              "25994    27.827397\n",
              "Name: tenure, Length: 25989, dtype: float64"
            ]
          },
          "metadata": {},
          "execution_count": 15
        }
      ]
    },
    {
      "cell_type": "code",
      "source": [
        "df['tenure'] = df['tenure'].round(2)"
      ],
      "metadata": {
        "id": "Mtfrx-hQw6qt"
      },
      "execution_count": null,
      "outputs": []
    },
    {
      "cell_type": "code",
      "source": [
        "df['tenure']"
      ],
      "metadata": {
        "colab": {
          "base_uri": "https://localhost:8080/"
        },
        "id": "XqxfN4Tt4GaD",
        "outputId": "4439ee88-c9ab-48f3-9511-68393bea62ff"
      },
      "execution_count": null,
      "outputs": [
        {
          "output_type": "execute_result",
          "data": {
            "text/plain": [
              "0        32.19\n",
              "1        31.08\n",
              "2        33.10\n",
              "3        32.97\n",
              "4        32.95\n",
              "         ...  \n",
              "25990    32.21\n",
              "25991    33.42\n",
              "25992    28.00\n",
              "25993    27.95\n",
              "25994    27.83\n",
              "Name: tenure, Length: 25989, dtype: float64"
            ]
          },
          "metadata": {},
          "execution_count": 17
        }
      ]
    },
    {
      "cell_type": "markdown",
      "source": [
        "*** Feature Engineering ***"
      ],
      "metadata": {
        "id": "0J-A3n_WqPe8"
      }
    },
    {
      "cell_type": "code",
      "source": [
        "# feature engineering - cost to replace employee\n",
        "df['cost to replace employee'] = df['base pay mid point annualized'] * df['cost to replace employee multiplier']"
      ],
      "metadata": {
        "id": "TylMQntRj6Jx"
      },
      "execution_count": null,
      "outputs": []
    },
    {
      "cell_type": "code",
      "source": [
        "# currency conversion\n",
        "df['usd base pay mid point'] = df['base pay mid point annualized'] * df['currency conversion rate']\n",
        "df = df.drop(['base pay mid point annualized', 'currency conversion rate'], axis=1)"
      ],
      "metadata": {
        "id": "cNc4bRBdgyb3"
      },
      "execution_count": null,
      "outputs": []
    },
    {
      "cell_type": "markdown",
      "source": [
        "*** Sanity Checking Compa Ratio / dropping excessive values ***"
      ],
      "metadata": {
        "id": "yP59Fu1kqUr6"
      }
    },
    {
      "cell_type": "code",
      "source": [
        "# histogram BEFORE compa ratio handling\n",
        "plt.figure(figsize=(8, 6))\n",
        "plt.hist(df['compa ratio'], bins=10, color='skyblue', edgecolor='black')\n",
        "plt.xlabel('Compa Ratio')\n",
        "plt.ylabel('Frequency')\n",
        "plt.title('Histogram of Compa Ratio')\n",
        "plt.grid(True)\n",
        "plt.show()"
      ],
      "metadata": {
        "colab": {
          "base_uri": "https://localhost:8080/",
          "height": 564
        },
        "id": "uoJ1zKjSp07V",
        "outputId": "5beb2c44-c120-4fe9-ae46-361b28a250f4"
      },
      "execution_count": null,
      "outputs": [
        {
          "output_type": "display_data",
          "data": {
            "text/plain": [
              "<Figure size 800x600 with 1 Axes>"
            ],
            "image/png": "[encoded data removed]"
          },
          "metadata": {}
        }
      ]
    },
    {
      "cell_type": "code",
      "source": [
        "df = df[df['compa ratio'] <= 2]\n",
        "df = df[df['compa ratio'] >= .25]"
      ],
      "metadata": {
        "id": "lV4flqXqodeZ"
      },
      "execution_count": null,
      "outputs": []
    },
    {
      "cell_type": "code",
      "source": [
        "# # histogram AFTER compa ratio handling\n",
        "\n",
        "plt.figure(figsize=(8, 6))\n",
        "plt.hist(df['compa ratio'], bins=10 , color='skyblue', edgecolor='black')\n",
        "plt.xlabel('Compa Ratio')\n",
        "plt.ylabel('Frequency')\n",
        "plt.title('Histogram of Compa Ratio')\n",
        "plt.grid(True)\n",
        "plt.show()"
      ],
      "metadata": {
        "colab": {
          "base_uri": "https://localhost:8080/",
          "height": 564
        },
        "id": "_WvYxfZZnxRs",
        "outputId": "ffde8ae5-7a7c-4d40-907b-cfcde9ac32e9"
      },
      "execution_count": null,
      "outputs": [
        {
          "output_type": "display_data",
          "data": {
            "text/plain": [
              "<Figure size 800x600 with 1 Axes>"
            ],
            "image/png": "[encoded data removed]"
          },
          "metadata": {}
        }
      ]
    },
    {
      "cell_type": "code",
      "source": [
        "# removing the 6 mystery nulls in work city\n",
        "df = df.dropna(subset = ['work city'])"
      ],
      "metadata": {
        "id": "9rjIOdUt-589"
      },
      "execution_count": null,
      "outputs": []
    },
    {
      "cell_type": "markdown",
      "source": [
        "*** vol_churn and work structure editing ***"
      ],
      "metadata": {
        "id": "9R7a5FEZKEzo"
      }
    },
    {
      "cell_type": "code",
      "source": [
        "# voluntary churn column\n",
        "df['vol_churn'] = (df['termination type'] == 'Voluntary Termination').astype(int)\n",
        "\n",
        "# filling work structure NA's\n",
        "df['work structure'] = df['work structure'].fillna('Onsite')\n"
      ],
      "metadata": {
        "id": "eLqZ9u_9klK-"
      },
      "execution_count": null,
      "outputs": []
    },
    {
      "cell_type": "code",
      "source": [
        "df['vol_churn']"
      ],
      "metadata": {
        "colab": {
          "base_uri": "https://localhost:8080/"
        },
        "id": "dhsx-raV4cRZ",
        "outputId": "a906974f-07c5-441a-e4e7-e96d43987718"
      },
      "execution_count": null,
      "outputs": [
        {
          "output_type": "execute_result",
          "data": {
            "text/plain": [
              "0        0\n",
              "1        1\n",
              "2        0\n",
              "3        0\n",
              "4        0\n",
              "        ..\n",
              "25990    0\n",
              "25991    0\n",
              "25992    0\n",
              "25993    0\n",
              "25994    0\n",
              "Name: vol_churn, Length: 24409, dtype: int64"
            ]
          },
          "metadata": {},
          "execution_count": 25
        }
      ]
    },
    {
      "cell_type": "code",
      "source": [
        "# dropping retirement termination reasons\n",
        "df = df.drop(df[(df['termination reason'] == 'Retirement') | (df['termination reason'] == 'Retirement (Rehired)') |\n",
        "                (df['termination reason'] == 'Deceased')].index)"
      ],
      "metadata": {
        "id": "kp7eZ85j-8Xq"
      },
      "execution_count": null,
      "outputs": []
    },
    {
      "cell_type": "code",
      "source": [
        "# keeping only voluntary termination and active employees\n",
        "df = df.drop(df[(df['termination type'] == 'Involuntary Termination') | (df['termination type'] == 'Other Termination') |\n",
        " (df['termination type'] == 'Release Termination')].index)\n"
      ],
      "metadata": {
        "id": "OA1dYvM2_a-T"
      },
      "execution_count": null,
      "outputs": []
    },
    {
      "cell_type": "code",
      "source": [
        "df['termination type'].value_counts()"
      ],
      "metadata": {
        "colab": {
          "base_uri": "https://localhost:8080/"
        },
        "id": "SSA25-fMHnrJ",
        "outputId": "b9da5443-3fab-424b-fe2d-35494bc073a9"
      },
      "execution_count": null,
      "outputs": [
        {
          "output_type": "execute_result",
          "data": {
            "text/plain": [
              "termination type\n",
              "Voluntary Termination    5859\n",
              "No Show                     1\n",
              "Name: count, dtype: int64"
            ]
          },
          "metadata": {},
          "execution_count": 28
        }
      ]
    },
    {
      "cell_type": "code",
      "source": [
        "df = df.drop(columns = ['termination type'])"
      ],
      "metadata": {
        "id": "7pr0r73BAKsK"
      },
      "execution_count": null,
      "outputs": []
    },
    {
      "cell_type": "markdown",
      "source": [
        "*** binning compa ratio ***"
      ],
      "metadata": {
        "id": "prTIYoSTKMyJ"
      }
    },
    {
      "cell_type": "code",
      "source": [
        "df['compa ratio']"
      ],
      "metadata": {
        "colab": {
          "base_uri": "https://localhost:8080/"
        },
        "id": "9v-uNGeo4sOQ",
        "outputId": "68ba7d41-8a17-4745-92fb-4fbda1300c1a"
      },
      "execution_count": null,
      "outputs": [
        {
          "output_type": "execute_result",
          "data": {
            "text/plain": [
              "1        0.979\n",
              "2        1.146\n",
              "3        0.941\n",
              "4        0.932\n",
              "7        1.079\n",
              "         ...  \n",
              "25979    0.851\n",
              "25981    0.976\n",
              "25984    0.936\n",
              "25988    0.954\n",
              "25991    0.841\n",
              "Name: compa ratio, Length: 17528, dtype: float64"
            ]
          },
          "metadata": {},
          "execution_count": 30
        }
      ]
    },
    {
      "cell_type": "code",
      "source": [
        "bins = [0, 0.25, 0.5, 0.75, 1, float('inf')]\n",
        "\n",
        "# Define the bin labels\n",
        "labels = ['1-25%', '25-50%', '50-75%', '75-100%', '100%+']\n",
        "\n",
        "# Bin the 'compensation ratio' column\n",
        "df['compa bucket'] = pd.cut(df['compa ratio'], bins=bins, labels=labels, right=False)\n"
      ],
      "metadata": {
        "id": "OUsJt1uDBGu_"
      },
      "execution_count": null,
      "outputs": []
    },
    {
      "cell_type": "code",
      "source": [
        "df['compa bucket']"
      ],
      "metadata": {
        "colab": {
          "base_uri": "https://localhost:8080/"
        },
        "id": "dFZNgHgz4xMp",
        "outputId": "421a13ba-07dc-4fc7-df4e-70fdd7e2cf94"
      },
      "execution_count": null,
      "outputs": [
        {
          "output_type": "execute_result",
          "data": {
            "text/plain": [
              "1        75-100%\n",
              "2          100%+\n",
              "3        75-100%\n",
              "4        75-100%\n",
              "7          100%+\n",
              "          ...   \n",
              "25979    75-100%\n",
              "25981    75-100%\n",
              "25984    75-100%\n",
              "25988    75-100%\n",
              "25991    75-100%\n",
              "Name: compa bucket, Length: 17528, dtype: category\n",
              "Categories (5, object): ['1-25%' < '25-50%' < '50-75%' < '75-100%' < '100%+']"
            ]
          },
          "metadata": {},
          "execution_count": 32
        }
      ]
    },
    {
      "cell_type": "markdown",
      "source": [
        "*** binning tenure***\n"
      ],
      "metadata": {
        "id": "oysc8x-1KQx2"
      }
    },
    {
      "cell_type": "code",
      "source": [
        "df['tenure']"
      ],
      "metadata": {
        "colab": {
          "base_uri": "https://localhost:8080/"
        },
        "id": "aYyPb7hJ4_Re",
        "outputId": "80b4b71c-31b8-4d35-c015-104671b35246"
      },
      "execution_count": null,
      "outputs": [
        {
          "output_type": "execute_result",
          "data": {
            "text/plain": [
              "1        31.08\n",
              "2        33.10\n",
              "3        32.97\n",
              "4        32.95\n",
              "7        33.12\n",
              "         ...  \n",
              "25979    32.62\n",
              "25981    33.69\n",
              "25984    10.62\n",
              "25988    30.51\n",
              "25991    33.42\n",
              "Name: tenure, Length: 17528, dtype: float64"
            ]
          },
          "metadata": {},
          "execution_count": 33
        }
      ]
    },
    {
      "cell_type": "code",
      "source": [
        "# Define the bin edges for tenure\n",
        "tenure_bins = [0, 1, 5, 10, 20, float('inf')]\n",
        "\n",
        "# Define the bin labels for tenure\n",
        "tenure_labels = ['<1', '1-5', '5-10', '10-20', '20+']\n",
        "\n",
        "# Custom function to map and bin the 'tenure bucket' column\n",
        "def map_and_bin_tenure(bucket):\n",
        "    if bucket == '< 1 Year':\n",
        "        return '0'\n",
        "    elif bucket == '1 - 3 Years':\n",
        "        return '3'\n",
        "    elif bucket == '3 - 5 Years':\n",
        "        return '2'\n",
        "    elif bucket == '5 - 10 Years':\n",
        "        return '3'\n",
        "    elif bucket == '10 - 20 Years':\n",
        "        return '4'\n",
        "    elif bucket == '20+ Years':\n",
        "        return '5'\n",
        "    else:\n",
        "        return None\n",
        "\n",
        "# Apply the custom function to map and bin the 'tenure bucket' column\n",
        "df['tenure bucket'] = df['tenure bucket'].apply(map_and_bin_tenure)"
      ],
      "metadata": {
        "id": "-7spK7f3MBni"
      },
      "execution_count": null,
      "outputs": []
    },
    {
      "cell_type": "code",
      "source": [
        "df['tenure bucket']"
      ],
      "metadata": {
        "colab": {
          "base_uri": "https://localhost:8080/"
        },
        "id": "m_kqkex-5ER6",
        "outputId": "7cbf5c7d-1a0a-4fd7-8c1a-1d6c4ad35bf6"
      },
      "execution_count": null,
      "outputs": [
        {
          "output_type": "execute_result",
          "data": {
            "text/plain": [
              "1        5\n",
              "2        5\n",
              "3        5\n",
              "4        5\n",
              "7        5\n",
              "        ..\n",
              "25979    5\n",
              "25981    5\n",
              "25984    4\n",
              "25988    5\n",
              "25991    5\n",
              "Name: tenure bucket, Length: 17528, dtype: object"
            ]
          },
          "metadata": {},
          "execution_count": 35
        }
      ]
    },
    {
      "cell_type": "code",
      "source": [
        "df['tenure bucket'] = df['tenure bucket'].astype(str).astype(int)"
      ],
      "metadata": {
        "id": "HfblBW2aPJPk"
      },
      "execution_count": null,
      "outputs": []
    },
    {
      "cell_type": "code",
      "source": [
        "df.isnull().sum()"
      ],
      "metadata": {
        "colab": {
          "base_uri": "https://localhost:8080/"
        },
        "id": "_nh47QoPnWNZ",
        "outputId": "d5b9733d-cce2-4f94-9589-293d54b21736"
      },
      "execution_count": null,
      "outputs": [
        {
          "output_type": "execute_result",
          "data": {
            "text/plain": [
              "anon id                                    0\n",
              "job code                                   0\n",
              "job title                                  0\n",
              "job function                               0\n",
              "job category                               0\n",
              "job group                                  0\n",
              "compa ratio                                0\n",
              "pay level                                  0\n",
              "work city                                  0\n",
              "work country                               0\n",
              "work region                                0\n",
              "gender                                     0\n",
              "employee status                            0\n",
              "termination date                       11668\n",
              "tenure                                     0\n",
              "tenure bucket                              0\n",
              "generation                                 0\n",
              "work structure                             0\n",
              "termination reason                     11669\n",
              "cost to replace employee multiplier        0\n",
              "cost to replace employee                   0\n",
              "usd base pay mid point                     0\n",
              "vol_churn                                  0\n",
              "compa bucket                               0\n",
              "dtype: int64"
            ]
          },
          "metadata": {},
          "execution_count": 37
        }
      ]
    },
    {
      "cell_type": "markdown",
      "source": [
        "*** creating active year features ***"
      ],
      "metadata": {
        "id": "O2knvXvvKcei"
      }
    },
    {
      "cell_type": "code",
      "source": [
        "# df['termination date'] = pd.to_datetime(df['termination date'])\n",
        "# df['quarter'] = df['termination date'].dt.year.astype(str) + ' Q' + df['termination date'].dt.quarter.astype(str)"
      ],
      "metadata": {
        "id": "dbZVjy43KgXt"
      },
      "execution_count": null,
      "outputs": []
    },
    {
      "cell_type": "code",
      "source": [
        "# # Create a list of years from 2016 to 2024\n",
        "# years = range(2016, 2025)\n",
        "\n",
        "# # Create an empty DataFrame to store the results\n",
        "# df_quarters = pd.DataFrame()\n",
        "\n",
        "# # Loop through each year and quarter\n",
        "# for year in years:\n",
        "#     for quarter in range(1, 5):  # Quarters range from 1 to 4\n",
        "#         quarter_name = f\"{year} Q{quarter}\"\n",
        "#         df_quarters[quarter_name] = np.where(df['quarter'] <= f\"{year}-Q{quarter}\", \"Active\", \"NaN\")\n",
        "\n",
        "# # Concatenate the new DataFrame with df\n",
        "# df = pd.concat([df, df_quarters], axis=1)"
      ],
      "metadata": {
        "id": "W2jIQR3pQsy6"
      },
      "execution_count": null,
      "outputs": []
    },
    {
      "cell_type": "markdown",
      "source": [
        "*** final touches ***"
      ],
      "metadata": {
        "id": "wutK93ZgKg5D"
      }
    },
    {
      "cell_type": "code",
      "source": [
        "# df = df.drop(columns = ['anon id', 'job code', 'employee status', 'termination date',\n",
        "#       'termination reason', 'cost to replace employee multiplier', 'cost to replace employee',\n",
        "#        'usd base pay mid point', 'compa ratio', # created compa bucket\n",
        "#                         'tenure']) #have tenure bucket"
      ],
      "metadata": {
        "id": "_xRa02n9AM7l"
      },
      "execution_count": null,
      "outputs": []
    },
    {
      "cell_type": "code",
      "source": [
        "# df = df.reset_index(drop=True)"
      ],
      "metadata": {
        "id": "b-59OfT0N87M"
      },
      "execution_count": null,
      "outputs": []
    },
    {
      "cell_type": "markdown",
      "source": [
        "*** EXPORT CLEAN DATA ***"
      ],
      "metadata": {
        "id": "oXya6AUBjJ1H"
      }
    },
    {
      "cell_type": "code",
      "source": [
        "df.to_csv('clean_df_copy.csv', index=False)"
      ],
      "metadata": {
        "id": "ZOs2mhr5jE3r"
      },
      "execution_count": null,
      "outputs": []
    },
    {
      "cell_type": "code",
      "source": [
        "df"
      ],
      "metadata": {
        "colab": {
          "base_uri": "https://localhost:8080/",
          "height": 721
        },
        "id": "3m-m3eWnCaL0",
        "outputId": "47d77e33-d28d-4d93-af24-259cbcd08778"
      },
      "execution_count": null,
      "outputs": [
        {
          "output_type": "execute_result",
          "data": {
            "text/plain": [
              "       anon id      job code                         job title  \\\n",
              "1         1112   8804_USA BA       Managing Principal Engineer   \n",
              "2         1113  1600_USA NTL                    Staff Engineer   \n",
              "3         1115   3627_USA BA  Sr Staff Program/Project Manager   \n",
              "4         1116  2692_USA NTL                      Technologist   \n",
              "7         1120   1486_USA BA         Sr Engineering Specialist   \n",
              "...        ...           ...                               ...   \n",
              "25979    87546  2378_USA NTL                        Sr Manager   \n",
              "25981    87548   1206_USA BA         Engineering Specialist IV   \n",
              "25984    87552   1474_USA BA                       Sr Engineer   \n",
              "25988    87556  2472_USA NTL                 Sr Staff Engineer   \n",
              "25991    87559   2042_USA BA           Sr Engineering Director   \n",
              "\n",
              "                 job function              job category     job group  \\\n",
              "1                 Engineering                Management    Management   \n",
              "2                 Engineering  Engineering Professional  Professional   \n",
              "3      Information Technology              Professional  Professional   \n",
              "4                 Engineering  Engineering Professional  Professional   \n",
              "7        Engineering Services        Operations Support       Support   \n",
              "...                       ...                       ...           ...   \n",
              "25979  Information Technology                Management    Management   \n",
              "25981    Engineering Services        Operations Support       Support   \n",
              "25984             Engineering  Engineering Professional  Professional   \n",
              "25988             Engineering  Engineering Professional  Professional   \n",
              "25991             Engineering                Management    Management   \n",
              "\n",
              "       compa ratio pay level  work city   work country  ... tenure  \\\n",
              "1            0.979        M4    Fremont  United States  ...  31.08   \n",
              "2            1.146        P4  Remote US  United States  ...  33.10   \n",
              "3            0.941        P5    Fremont  United States  ...  32.97   \n",
              "4            0.932        P7   Longmont  United States  ...  32.95   \n",
              "7            1.079        S5    Fremont  United States  ...  33.12   \n",
              "...            ...       ...        ...            ...  ...    ...   \n",
              "25979        0.851        M4   Longmont  United States  ...  32.62   \n",
              "25981        0.976        S4    Fremont  United States  ...  33.69   \n",
              "25984        0.936        P3    Fremont  United States  ...  10.62   \n",
              "25988        0.954        P5   Longmont  United States  ...  30.51   \n",
              "25991        0.841        M6    Fremont  United States  ...  33.42   \n",
              "\n",
              "      tenure bucket generation work structure          termination reason  \\\n",
              "1                 5     Boomer         Onsite            Compensation/Pay   \n",
              "2                 5     Boomer         Remote                         NaN   \n",
              "3                 5      Gen X         Onsite                         NaN   \n",
              "4                 5     Boomer         Onsite                         NaN   \n",
              "7                 5      Gen X         Onsite                         NaN   \n",
              "...             ...        ...            ...                         ...   \n",
              "25979             5      Gen X         Onsite          Career Advancement   \n",
              "25981             5     Boomer         Onsite                         NaN   \n",
              "25984             4     Boomer         Onsite  Change of Career Direction   \n",
              "25988             5     Boomer         Onsite                         NaN   \n",
              "25991             5      Gen X         Onsite                         NaN   \n",
              "\n",
              "       cost to replace employee multiplier cost to replace employee  \\\n",
              "1                                     1.25                 253760.0   \n",
              "2                                     1.25                 148746.0   \n",
              "3                                     1.25                 231244.0   \n",
              "4                                     1.25                 312494.0   \n",
              "7                                     0.50                  50003.2   \n",
              "...                                    ...                      ...   \n",
              "25979                                 1.25                 231244.0   \n",
              "25981                                 0.50                  44501.6   \n",
              "25984                                 1.25                 156260.0   \n",
              "25988                                 1.25                 227500.0   \n",
              "25991                                 1.25                 346242.0   \n",
              "\n",
              "      usd base pay mid point vol_churn  compa bucket  \n",
              "1                   203008.0         1       75-100%  \n",
              "2                   118996.8         0         100%+  \n",
              "3                   184995.2         0       75-100%  \n",
              "4                   249995.2         0       75-100%  \n",
              "7                   100006.4         0         100%+  \n",
              "...                      ...       ...           ...  \n",
              "25979               184995.2         1       75-100%  \n",
              "25981                89003.2         0       75-100%  \n",
              "25984               125008.0         1       75-100%  \n",
              "25988               182000.0         0       75-100%  \n",
              "25991               276993.6         0       75-100%  \n",
              "\n",
              "[17528 rows x 24 columns]"
            ],
            "text/html": [
              "\n",
              "  <div id=\"df-30ce6ff5-5f24-4b05-b3c7-adeb32864d8d\" class=\"colab-df-container\">\n",
              "    <div>\n",
              "<style scoped>\n",
              "    .dataframe tbody tr th:only-of-type {\n",
              "        vertical-align: middle;\n",
              "    }\n",
              "\n",
              "    .dataframe tbody tr th {\n",
              "        vertical-align: top;\n",
              "    }\n",
              "\n",
              "    .dataframe thead th {\n",
              "        text-align: right;\n",
              "    }\n",
              "</style>\n",
              "<table border=\"1\" class=\"dataframe\">\n",
              "  <thead>\n",
              "    <tr style=\"text-align: right;\">\n",
              "      <th></th>\n",
              "      <th>anon id</th>\n",
              "      <th>job code</th>\n",
              "      <th>job title</th>\n",
              "      <th>job function</th>\n",
              "      <th>job category</th>\n",
              "      <th>job group</th>\n",
              "      <th>compa ratio</th>\n",
              "      <th>pay level</th>\n",
              "      <th>work city</th>\n",
              "      <th>work country</th>\n",
              "      <th>...</th>\n",
              "      <th>tenure</th>\n",
              "      <th>tenure bucket</th>\n",
              "      <th>generation</th>\n",
              "      <th>work structure</th>\n",
              "      <th>termination reason</th>\n",
              "      <th>cost to replace employee multiplier</th>\n",
              "      <th>cost to replace employee</th>\n",
              "      <th>usd base pay mid point</th>\n",
              "      <th>vol_churn</th>\n",
              "      <th>compa bucket</th>\n",
              "    </tr>\n",
              "  </thead>\n",
              "  <tbody>\n",
              "    <tr>\n",
              "      <th>1</th>\n",
              "      <td>1112</td>\n",
              "      <td>8804_USA BA</td>\n",
              "      <td>Managing Principal Engineer</td>\n",
              "      <td>Engineering</td>\n",
              "      <td>Management</td>\n",
              "      <td>Management</td>\n",
              "      <td>0.979</td>\n",
              "      <td>M4</td>\n",
              "      <td>Fremont</td>\n",
              "      <td>United States</td>\n",
              "      <td>...</td>\n",
              "      <td>31.08</td>\n",
              "      <td>5</td>\n",
              "      <td>Boomer</td>\n",
              "      <td>Onsite</td>\n",
              "      <td>Compensation/Pay</td>\n",
              "      <td>1.25</td>\n",
              "      <td>253760.0</td>\n",
              "      <td>203008.0</td>\n",
              "      <td>1</td>\n",
              "      <td>75-100%</td>\n",
              "    </tr>\n",
              "    <tr>\n",
              "      <th>2</th>\n",
              "      <td>1113</td>\n",
              "      <td>1600_USA NTL</td>\n",
              "      <td>Staff Engineer</td>\n",
              "      <td>Engineering</td>\n",
              "      <td>Engineering Professional</td>\n",
              "      <td>Professional</td>\n",
              "      <td>1.146</td>\n",
              "      <td>P4</td>\n",
              "      <td>Remote US</td>\n",
              "      <td>United States</td>\n",
              "      <td>...</td>\n",
              "      <td>33.10</td>\n",
              "      <td>5</td>\n",
              "      <td>Boomer</td>\n",
              "      <td>Remote</td>\n",
              "      <td>NaN</td>\n",
              "      <td>1.25</td>\n",
              "      <td>148746.0</td>\n",
              "      <td>118996.8</td>\n",
              "      <td>0</td>\n",
              "      <td>100%+</td>\n",
              "    </tr>\n",
              "    <tr>\n",
              "      <th>3</th>\n",
              "      <td>1115</td>\n",
              "      <td>3627_USA BA</td>\n",
              "      <td>Sr Staff Program/Project Manager</td>\n",
              "      <td>Information Technology</td>\n",
              "      <td>Professional</td>\n",
              "      <td>Professional</td>\n",
              "      <td>0.941</td>\n",
              "      <td>P5</td>\n",
              "      <td>Fremont</td>\n",
              "      <td>United States</td>\n",
              "      <td>...</td>\n",
              "      <td>32.97</td>\n",
              "      <td>5</td>\n",
              "      <td>Gen X</td>\n",
              "      <td>Onsite</td>\n",
              "      <td>NaN</td>\n",
              "      <td>1.25</td>\n",
              "      <td>231244.0</td>\n",
              "      <td>184995.2</td>\n",
              "      <td>0</td>\n",
              "      <td>75-100%</td>\n",
              "    </tr>\n",
              "    <tr>\n",
              "      <th>4</th>\n",
              "      <td>1116</td>\n",
              "      <td>2692_USA NTL</td>\n",
              "      <td>Technologist</td>\n",
              "      <td>Engineering</td>\n",
              "      <td>Engineering Professional</td>\n",
              "      <td>Professional</td>\n",
              "      <td>0.932</td>\n",
              "      <td>P7</td>\n",
              "      <td>Longmont</td>\n",
              "      <td>United States</td>\n",
              "      <td>...</td>\n",
              "      <td>32.95</td>\n",
              "      <td>5</td>\n",
              "      <td>Boomer</td>\n",
              "      <td>Onsite</td>\n",
              "      <td>NaN</td>\n",
              "      <td>1.25</td>\n",
              "      <td>312494.0</td>\n",
              "      <td>249995.2</td>\n",
              "      <td>0</td>\n",
              "      <td>75-100%</td>\n",
              "    </tr>\n",
              "    <tr>\n",
              "      <th>7</th>\n",
              "      <td>1120</td>\n",
              "      <td>1486_USA BA</td>\n",
              "      <td>Sr Engineering Specialist</td>\n",
              "      <td>Engineering Services</td>\n",
              "      <td>Operations Support</td>\n",
              "      <td>Support</td>\n",
              "      <td>1.079</td>\n",
              "      <td>S5</td>\n",
              "      <td>Fremont</td>\n",
              "      <td>United States</td>\n",
              "      <td>...</td>\n",
              "      <td>33.12</td>\n",
              "      <td>5</td>\n",
              "      <td>Gen X</td>\n",
              "      <td>Onsite</td>\n",
              "      <td>NaN</td>\n",
              "      <td>0.50</td>\n",
              "      <td>50003.2</td>\n",
              "      <td>100006.4</td>\n",
              "      <td>0</td>\n",
              "      <td>100%+</td>\n",
              "    </tr>\n",
              "    <tr>\n",
              "      <th>...</th>\n",
              "      <td>...</td>\n",
              "      <td>...</td>\n",
              "      <td>...</td>\n",
              "      <td>...</td>\n",
              "      <td>...</td>\n",
              "      <td>...</td>\n",
              "      <td>...</td>\n",
              "      <td>...</td>\n",
              "      <td>...</td>\n",
              "      <td>...</td>\n",
              "      <td>...</td>\n",
              "      <td>...</td>\n",
              "      <td>...</td>\n",
              "      <td>...</td>\n",
              "      <td>...</td>\n",
              "      <td>...</td>\n",
              "      <td>...</td>\n",
              "      <td>...</td>\n",
              "      <td>...</td>\n",
              "      <td>...</td>\n",
              "      <td>...</td>\n",
              "    </tr>\n",
              "    <tr>\n",
              "      <th>25979</th>\n",
              "      <td>87546</td>\n",
              "      <td>2378_USA NTL</td>\n",
              "      <td>Sr Manager</td>\n",
              "      <td>Information Technology</td>\n",
              "      <td>Management</td>\n",
              "      <td>Management</td>\n",
              "      <td>0.851</td>\n",
              "      <td>M4</td>\n",
              "      <td>Longmont</td>\n",
              "      <td>United States</td>\n",
              "      <td>...</td>\n",
              "      <td>32.62</td>\n",
              "      <td>5</td>\n",
              "      <td>Gen X</td>\n",
              "      <td>Onsite</td>\n",
              "      <td>Career Advancement</td>\n",
              "      <td>1.25</td>\n",
              "      <td>231244.0</td>\n",
              "      <td>184995.2</td>\n",
              "      <td>1</td>\n",
              "      <td>75-100%</td>\n",
              "    </tr>\n",
              "    <tr>\n",
              "      <th>25981</th>\n",
              "      <td>87548</td>\n",
              "      <td>1206_USA BA</td>\n",
              "      <td>Engineering Specialist IV</td>\n",
              "      <td>Engineering Services</td>\n",
              "      <td>Operations Support</td>\n",
              "      <td>Support</td>\n",
              "      <td>0.976</td>\n",
              "      <td>S4</td>\n",
              "      <td>Fremont</td>\n",
              "      <td>United States</td>\n",
              "      <td>...</td>\n",
              "      <td>33.69</td>\n",
              "      <td>5</td>\n",
              "      <td>Boomer</td>\n",
              "      <td>Onsite</td>\n",
              "      <td>NaN</td>\n",
              "      <td>0.50</td>\n",
              "      <td>44501.6</td>\n",
              "      <td>89003.2</td>\n",
              "      <td>0</td>\n",
              "      <td>75-100%</td>\n",
              "    </tr>\n",
              "    <tr>\n",
              "      <th>25984</th>\n",
              "      <td>87552</td>\n",
              "      <td>1474_USA BA</td>\n",
              "      <td>Sr Engineer</td>\n",
              "      <td>Engineering</td>\n",
              "      <td>Engineering Professional</td>\n",
              "      <td>Professional</td>\n",
              "      <td>0.936</td>\n",
              "      <td>P3</td>\n",
              "      <td>Fremont</td>\n",
              "      <td>United States</td>\n",
              "      <td>...</td>\n",
              "      <td>10.62</td>\n",
              "      <td>4</td>\n",
              "      <td>Boomer</td>\n",
              "      <td>Onsite</td>\n",
              "      <td>Change of Career Direction</td>\n",
              "      <td>1.25</td>\n",
              "      <td>156260.0</td>\n",
              "      <td>125008.0</td>\n",
              "      <td>1</td>\n",
              "      <td>75-100%</td>\n",
              "    </tr>\n",
              "    <tr>\n",
              "      <th>25988</th>\n",
              "      <td>87556</td>\n",
              "      <td>2472_USA NTL</td>\n",
              "      <td>Sr Staff Engineer</td>\n",
              "      <td>Engineering</td>\n",
              "      <td>Engineering Professional</td>\n",
              "      <td>Professional</td>\n",
              "      <td>0.954</td>\n",
              "      <td>P5</td>\n",
              "      <td>Longmont</td>\n",
              "      <td>United States</td>\n",
              "      <td>...</td>\n",
              "      <td>30.51</td>\n",
              "      <td>5</td>\n",
              "      <td>Boomer</td>\n",
              "      <td>Onsite</td>\n",
              "      <td>NaN</td>\n",
              "      <td>1.25</td>\n",
              "      <td>227500.0</td>\n",
              "      <td>182000.0</td>\n",
              "      <td>0</td>\n",
              "      <td>75-100%</td>\n",
              "    </tr>\n",
              "    <tr>\n",
              "      <th>25991</th>\n",
              "      <td>87559</td>\n",
              "      <td>2042_USA BA</td>\n",
              "      <td>Sr Engineering Director</td>\n",
              "      <td>Engineering</td>\n",
              "      <td>Management</td>\n",
              "      <td>Management</td>\n",
              "      <td>0.841</td>\n",
              "      <td>M6</td>\n",
              "      <td>Fremont</td>\n",
              "      <td>United States</td>\n",
              "      <td>...</td>\n",
              "      <td>33.42</td>\n",
              "      <td>5</td>\n",
              "      <td>Gen X</td>\n",
              "      <td>Onsite</td>\n",
              "      <td>NaN</td>\n",
              "      <td>1.25</td>\n",
              "      <td>346242.0</td>\n",
              "      <td>276993.6</td>\n",
              "      <td>0</td>\n",
              "      <td>75-100%</td>\n",
              "    </tr>\n",
              "  </tbody>\n",
              "</table>\n",
              "<p>17528 rows × 24 columns</p>\n",
              "</div>\n",
              "    <div class=\"colab-df-buttons\">\n",
              "\n",
              "  <div class=\"colab-df-container\">\n",
              "    <button class=\"colab-df-convert\" onclick=\"convertToInteractive('df-30ce6ff5-5f24-4b05-b3c7-adeb32864d8d')\"\n",
              "            title=\"Convert this dataframe to an interactive table.\"\n",
              "            style=\"display:none;\">\n",
              "\n",
              "  <svg xmlns=\"http://www.w3.org/2000/svg\" height=\"24px\" viewBox=\"0 -960 960 960\">\n",
              "    <path d=\"M120-120v-720h720v720H120Zm60-500h600v-160H180v160Zm220 220h160v-160H400v160Zm0 220h160v-160H400v160ZM180-400h160v-160H180v160Zm440 0h160v-160H620v160ZM180-180h160v-160H180v160Zm440 0h160v-160H620v160Z\"/>\n",
              "  </svg>\n",
              "    </button>\n",
              "\n",
              "  <style>\n",
              "    .colab-df-container {\n",
              "      display:flex;\n",
              "      gap: 12px;\n",
              "    }\n",
              "\n",
              "    .colab-df-convert {\n",
              "      background-color: #E8F0FE;\n",
              "      border: none;\n",
              "      border-radius: 50%;\n",
              "      cursor: pointer;\n",
              "      display: none;\n",
              "      fill: #1967D2;\n",
              "      height: 32px;\n",
              "      padding: 0 0 0 0;\n",
              "      width: 32px;\n",
              "    }\n",
              "\n",
              "    .colab-df-convert:hover {\n",
              "      background-color: #E2EBFA;\n",
              "      box-shadow: 0px 1px 2px rgba(60, 64, 67, 0.3), 0px 1px 3px 1px rgba(60, 64, 67, 0.15);\n",
              "      fill: #174EA6;\n",
              "    }\n",
              "\n",
              "    .colab-df-buttons div {\n",
              "      margin-bottom: 4px;\n",
              "    }\n",
              "\n",
              "    [theme=dark] .colab-df-convert {\n",
              "      background-color: #3B4455;\n",
              "      fill: #D2E3FC;\n",
              "    }\n",
              "\n",
              "    [theme=dark] .colab-df-convert:hover {\n",
              "      background-color: #434B5C;\n",
              "      box-shadow: 0px 1px 3px 1px rgba(0, 0, 0, 0.15);\n",
              "      filter: drop-shadow(0px 1px 2px rgba(0, 0, 0, 0.3));\n",
              "      fill: #FFFFFF;\n",
              "    }\n",
              "  </style>\n",
              "\n",
              "    <script>\n",
              "      const buttonEl =\n",
              "        document.querySelector('#df-30ce6ff5-5f24-4b05-b3c7-adeb32864d8d button.colab-df-convert');\n",
              "      buttonEl.style.display =\n",
              "        google.colab.kernel.accessAllowed ? 'block' : 'none';\n",
              "\n",
              "      async function convertToInteractive(key) {\n",
              "        const element = document.querySelector('#df-30ce6ff5-5f24-4b05-b3c7-adeb32864d8d');\n",
              "        const dataTable =\n",
              "          await google.colab.kernel.invokeFunction('convertToInteractive',\n",
              "                                                    [key], {});\n",
              "        if (!dataTable) return;\n",
              "\n",
              "        const docLinkHtml = 'Like what you see? Visit the ' +\n",
              "          '<a target=\"_blank\" href=https://colab.research.google.com/notebooks/data_table.ipynb>data table notebook</a>'\n",
              "          + ' to learn more about interactive tables.';\n",
              "        element.innerHTML = '';\n",
              "        dataTable['output_type'] = 'display_data';\n",
              "        await google.colab.output.renderOutput(dataTable, element);\n",
              "        const docLink = document.createElement('div');\n",
              "        docLink.innerHTML = docLinkHtml;\n",
              "        element.appendChild(docLink);\n",
              "      }\n",
              "    </script>\n",
              "  </div>\n",
              "\n",
              "\n",
              "<div id=\"df-96551c59-2ef3-4761-949c-ca1e3acfd679\">\n",
              "  <button class=\"colab-df-quickchart\" onclick=\"quickchart('df-96551c59-2ef3-4761-949c-ca1e3acfd679')\"\n",
              "            title=\"Suggest charts\"\n",
              "            style=\"display:none;\">\n",
              "\n",
              "<svg xmlns=\"http://www.w3.org/2000/svg\" height=\"24px\"viewBox=\"0 0 24 24\"\n",
              "     width=\"24px\">\n",
              "    <g>\n",
              "        <path d=\"M19 3H5c-1.1 0-2 .9-2 2v14c0 1.1.9 2 2 2h14c1.1 0 2-.9 2-2V5c0-1.1-.9-2-2-2zM9 17H7v-7h2v7zm4 0h-2V7h2v10zm4 0h-2v-4h2v4z\"/>\n",
              "    </g>\n",
              "</svg>\n",
              "  </button>\n",
              "\n",
              "<style>\n",
              "  .colab-df-quickchart {\n",
              "      --bg-color: #E8F0FE;\n",
              "      --fill-color: #1967D2;\n",
              "      --hover-bg-color: #E2EBFA;\n",
              "      --hover-fill-color: #174EA6;\n",
              "      --disabled-fill-color: #AAA;\n",
              "      --disabled-bg-color: #DDD;\n",
              "  }\n",
              "\n",
              "  [theme=dark] .colab-df-quickchart {\n",
              "      --bg-color: #3B4455;\n",
              "      --fill-color: #D2E3FC;\n",
              "      --hover-bg-color: #434B5C;\n",
              "      --hover-fill-color: #FFFFFF;\n",
              "      --disabled-bg-color: #3B4455;\n",
              "      --disabled-fill-color: #666;\n",
              "  }\n",
              "\n",
              "  .colab-df-quickchart {\n",
              "    background-color: var(--bg-color);\n",
              "    border: none;\n",
              "    border-radius: 50%;\n",
              "    cursor: pointer;\n",
              "    display: none;\n",
              "    fill: var(--fill-color);\n",
              "    height: 32px;\n",
              "    padding: 0;\n",
              "    width: 32px;\n",
              "  }\n",
              "\n",
              "  .colab-df-quickchart:hover {\n",
              "    background-color: var(--hover-bg-color);\n",
              "    box-shadow: 0 1px 2px rgba(60, 64, 67, 0.3), 0 1px 3px 1px rgba(60, 64, 67, 0.15);\n",
              "    fill: var(--button-hover-fill-color);\n",
              "  }\n",
              "\n",
              "  .colab-df-quickchart-complete:disabled,\n",
              "  .colab-df-quickchart-complete:disabled:hover {\n",
              "    background-color: var(--disabled-bg-color);\n",
              "    fill: var(--disabled-fill-color);\n",
              "    box-shadow: none;\n",
              "  }\n",
              "\n",
              "  .colab-df-spinner {\n",
              "    border: 2px solid var(--fill-color);\n",
              "    border-color: transparent;\n",
              "    border-bottom-color: var(--fill-color);\n",
              "    animation:\n",
              "      spin 1s steps(1) infinite;\n",
              "  }\n",
              "\n",
              "  @keyframes spin {\n",
              "    0% {\n",
              "      border-color: transparent;\n",
              "      border-bottom-color: var(--fill-color);\n",
              "      border-left-color: var(--fill-color);\n",
              "    }\n",
              "    20% {\n",
              "      border-color: transparent;\n",
              "      border-left-color: var(--fill-color);\n",
              "      border-top-color: var(--fill-color);\n",
              "    }\n",
              "    30% {\n",
              "      border-color: transparent;\n",
              "      border-left-color: var(--fill-color);\n",
              "      border-top-color: var(--fill-color);\n",
              "      border-right-color: var(--fill-color);\n",
              "    }\n",
              "    40% {\n",
              "      border-color: transparent;\n",
              "      border-right-color: var(--fill-color);\n",
              "      border-top-color: var(--fill-color);\n",
              "    }\n",
              "    60% {\n",
              "      border-color: transparent;\n",
              "      border-right-color: var(--fill-color);\n",
              "    }\n",
              "    80% {\n",
              "      border-color: transparent;\n",
              "      border-right-color: var(--fill-color);\n",
              "      border-bottom-color: var(--fill-color);\n",
              "    }\n",
              "    90% {\n",
              "      border-color: transparent;\n",
              "      border-bottom-color: var(--fill-color);\n",
              "    }\n",
              "  }\n",
              "</style>\n",
              "\n",
              "  <script>\n",
              "    async function quickchart(key) {\n",
              "      const quickchartButtonEl =\n",
              "        document.querySelector('#' + key + ' button');\n",
              "      quickchartButtonEl.disabled = true;  // To prevent multiple clicks.\n",
              "      quickchartButtonEl.classList.add('colab-df-spinner');\n",
              "      try {\n",
              "        const charts = await google.colab.kernel.invokeFunction(\n",
              "            'suggestCharts', [key], {});\n",
              "      } catch (error) {\n",
              "        console.error('Error during call to suggestCharts:', error);\n",
              "      }\n",
              "      quickchartButtonEl.classList.remove('colab-df-spinner');\n",
              "      quickchartButtonEl.classList.add('colab-df-quickchart-complete');\n",
              "    }\n",
              "    (() => {\n",
              "      let quickchartButtonEl =\n",
              "        document.querySelector('#df-96551c59-2ef3-4761-949c-ca1e3acfd679 button');\n",
              "      quickchartButtonEl.style.display =\n",
              "        google.colab.kernel.accessAllowed ? 'block' : 'none';\n",
              "    })();\n",
              "  </script>\n",
              "</div>\n",
              "    </div>\n",
              "  </div>\n"
            ],
            "application/vnd.google.colaboratory.intrinsic+json": {
              "type": "dataframe",
              "variable_name": "sg"
            }
          },
          "metadata": {},
          "execution_count": 43
        }
      ]
    },
    {
      "cell_type": "code",
      "source": [
        "df['termination date']"
      ],
      "metadata": {
        "colab": {
          "base_uri": "https://localhost:8080/"
        },
        "id": "j29CAx2JC9g2",
        "outputId": "c5a562a5-a28f-4cb4-98ae-8ad3b61a5811"
      },
      "execution_count": null,
      "outputs": [
        {
          "output_type": "execute_result",
          "data": {
            "text/plain": [
              "1       2022-02-04\n",
              "2              NaT\n",
              "3              NaT\n",
              "4              NaT\n",
              "7              NaT\n",
              "           ...    \n",
              "25979   2022-06-08\n",
              "25981          NaT\n",
              "25984   2023-04-17\n",
              "25988          NaT\n",
              "25991          NaT\n",
              "Name: termination date, Length: 17528, dtype: datetime64[ns]"
            ]
          },
          "metadata": {},
          "execution_count": 46
        }
      ]
    },
    {
      "cell_type": "code",
      "source": [
        "df['termination date'] = pd.to_datetime(df['termination date'])\n",
        "\n",
        "# Extract year from 'termination_date' column\n",
        "df['termination year'] = df['termination date'].dt.year\n",
        "\n",
        "# Group data by 'termination_year' and count terminations\n",
        "termination_counts = df.groupby('termination year').size().reset_index(name='termination count')\n",
        "\n",
        "# Calculate average terminations per year\n",
        "average_terminations_per_year = termination_counts['termination count'].mean()\n",
        "\n",
        "print(\"Average number of terminations per year:\", average_terminations_per_year)"
      ],
      "metadata": {
        "colab": {
          "base_uri": "https://localhost:8080/"
        },
        "id": "cpkAyuCfCibN",
        "outputId": "be4afa34-f0d6-4296-8f17-457228fb1587"
      },
      "execution_count": null,
      "outputs": [
        {
          "output_type": "stream",
          "name": "stdout",
          "text": [
            "Average number of terminations per year: 651.1111111111111\n"
          ]
        }
      ]
    },
    {
      "cell_type": "code",
      "source": [
        "termination_counts"
      ],
      "metadata": {
        "id": "2sHIkHi9ELzv",
        "outputId": "ed46e82c-98f6-429b-9223-c8de1d91fd01",
        "colab": {
          "base_uri": "https://localhost:8080/",
          "height": 331
        }
      },
      "execution_count": null,
      "outputs": [
        {
          "output_type": "execute_result",
          "data": {
            "text/plain": [
              "   termination year  termination count\n",
              "0            2016.0                180\n",
              "1            2017.0               1149\n",
              "2            2018.0                865\n",
              "3            2019.0                636\n",
              "4            2020.0                458\n",
              "5            2021.0                761\n",
              "6            2022.0                962\n",
              "7            2023.0                729\n",
              "8            2024.0                120"
            ],
            "text/html": [
              "\n",
              "  <div id=\"df-d4abae13-c899-4bb0-b3ab-1ca3b5382fec\" class=\"colab-df-container\">\n",
              "    <div>\n",
              "<style scoped>\n",
              "    .dataframe tbody tr th:only-of-type {\n",
              "        vertical-align: middle;\n",
              "    }\n",
              "\n",
              "    .dataframe tbody tr th {\n",
              "        vertical-align: top;\n",
              "    }\n",
              "\n",
              "    .dataframe thead th {\n",
              "        text-align: right;\n",
              "    }\n",
              "</style>\n",
              "<table border=\"1\" class=\"dataframe\">\n",
              "  <thead>\n",
              "    <tr style=\"text-align: right;\">\n",
              "      <th></th>\n",
              "      <th>termination year</th>\n",
              "      <th>termination count</th>\n",
              "    </tr>\n",
              "  </thead>\n",
              "  <tbody>\n",
              "    <tr>\n",
              "      <th>0</th>\n",
              "      <td>2016.0</td>\n",
              "      <td>180</td>\n",
              "    </tr>\n",
              "    <tr>\n",
              "      <th>1</th>\n",
              "      <td>2017.0</td>\n",
              "      <td>1149</td>\n",
              "    </tr>\n",
              "    <tr>\n",
              "      <th>2</th>\n",
              "      <td>2018.0</td>\n",
              "      <td>865</td>\n",
              "    </tr>\n",
              "    <tr>\n",
              "      <th>3</th>\n",
              "      <td>2019.0</td>\n",
              "      <td>636</td>\n",
              "    </tr>\n",
              "    <tr>\n",
              "      <th>4</th>\n",
              "      <td>2020.0</td>\n",
              "      <td>458</td>\n",
              "    </tr>\n",
              "    <tr>\n",
              "      <th>5</th>\n",
              "      <td>2021.0</td>\n",
              "      <td>761</td>\n",
              "    </tr>\n",
              "    <tr>\n",
              "      <th>6</th>\n",
              "      <td>2022.0</td>\n",
              "      <td>962</td>\n",
              "    </tr>\n",
              "    <tr>\n",
              "      <th>7</th>\n",
              "      <td>2023.0</td>\n",
              "      <td>729</td>\n",
              "    </tr>\n",
              "    <tr>\n",
              "      <th>8</th>\n",
              "      <td>2024.0</td>\n",
              "      <td>120</td>\n",
              "    </tr>\n",
              "  </tbody>\n",
              "</table>\n",
              "</div>\n",
              "    <div class=\"colab-df-buttons\">\n",
              "\n",
              "  <div class=\"colab-df-container\">\n",
              "    <button class=\"colab-df-convert\" onclick=\"convertToInteractive('df-d4abae13-c899-4bb0-b3ab-1ca3b5382fec')\"\n",
              "            title=\"Convert this dataframe to an interactive table.\"\n",
              "            style=\"display:none;\">\n",
              "\n",
              "  <svg xmlns=\"http://www.w3.org/2000/svg\" height=\"24px\" viewBox=\"0 -960 960 960\">\n",
              "    <path d=\"M120-120v-720h720v720H120Zm60-500h600v-160H180v160Zm220 220h160v-160H400v160Zm0 220h160v-160H400v160ZM180-400h160v-160H180v160Zm440 0h160v-160H620v160ZM180-180h160v-160H180v160Zm440 0h160v-160H620v160Z\"/>\n",
              "  </svg>\n",
              "    </button>\n",
              "\n",
              "  <style>\n",
              "    .colab-df-container {\n",
              "      display:flex;\n",
              "      gap: 12px;\n",
              "    }\n",
              "\n",
              "    .colab-df-convert {\n",
              "      background-color: #E8F0FE;\n",
              "      border: none;\n",
              "      border-radius: 50%;\n",
              "      cursor: pointer;\n",
              "      display: none;\n",
              "      fill: #1967D2;\n",
              "      height: 32px;\n",
              "      padding: 0 0 0 0;\n",
              "      width: 32px;\n",
              "    }\n",
              "\n",
              "    .colab-df-convert:hover {\n",
              "      background-color: #E2EBFA;\n",
              "      box-shadow: 0px 1px 2px rgba(60, 64, 67, 0.3), 0px 1px 3px 1px rgba(60, 64, 67, 0.15);\n",
              "      fill: #174EA6;\n",
              "    }\n",
              "\n",
              "    .colab-df-buttons div {\n",
              "      margin-bottom: 4px;\n",
              "    }\n",
              "\n",
              "    [theme=dark] .colab-df-convert {\n",
              "      background-color: #3B4455;\n",
              "      fill: #D2E3FC;\n",
              "    }\n",
              "\n",
              "    [theme=dark] .colab-df-convert:hover {\n",
              "      background-color: #434B5C;\n",
              "      box-shadow: 0px 1px 3px 1px rgba(0, 0, 0, 0.15);\n",
              "      filter: drop-shadow(0px 1px 2px rgba(0, 0, 0, 0.3));\n",
              "      fill: #FFFFFF;\n",
              "    }\n",
              "  </style>\n",
              "\n",
              "    <script>\n",
              "      const buttonEl =\n",
              "        document.querySelector('#df-d4abae13-c899-4bb0-b3ab-1ca3b5382fec button.colab-df-convert');\n",
              "      buttonEl.style.display =\n",
              "        google.colab.kernel.accessAllowed ? 'block' : 'none';\n",
              "\n",
              "      async function convertToInteractive(key) {\n",
              "        const element = document.querySelector('#df-d4abae13-c899-4bb0-b3ab-1ca3b5382fec');\n",
              "        const dataTable =\n",
              "          await google.colab.kernel.invokeFunction('convertToInteractive',\n",
              "                                                    [key], {});\n",
              "        if (!dataTable) return;\n",
              "\n",
              "        const docLinkHtml = 'Like what you see? Visit the ' +\n",
              "          '<a target=\"_blank\" href=https://colab.research.google.com/notebooks/data_table.ipynb>data table notebook</a>'\n",
              "          + ' to learn more about interactive tables.';\n",
              "        element.innerHTML = '';\n",
              "        dataTable['output_type'] = 'display_data';\n",
              "        await google.colab.output.renderOutput(dataTable, element);\n",
              "        const docLink = document.createElement('div');\n",
              "        docLink.innerHTML = docLinkHtml;\n",
              "        element.appendChild(docLink);\n",
              "      }\n",
              "    </script>\n",
              "  </div>\n",
              "\n",
              "\n",
              "<div id=\"df-cd249617-724e-4a13-8aae-c47e8f18eb15\">\n",
              "  <button class=\"colab-df-quickchart\" onclick=\"quickchart('df-cd249617-724e-4a13-8aae-c47e8f18eb15')\"\n",
              "            title=\"Suggest charts\"\n",
              "            style=\"display:none;\">\n",
              "\n",
              "<svg xmlns=\"http://www.w3.org/2000/svg\" height=\"24px\"viewBox=\"0 0 24 24\"\n",
              "     width=\"24px\">\n",
              "    <g>\n",
              "        <path d=\"M19 3H5c-1.1 0-2 .9-2 2v14c0 1.1.9 2 2 2h14c1.1 0 2-.9 2-2V5c0-1.1-.9-2-2-2zM9 17H7v-7h2v7zm4 0h-2V7h2v10zm4 0h-2v-4h2v4z\"/>\n",
              "    </g>\n",
              "</svg>\n",
              "  </button>\n",
              "\n",
              "<style>\n",
              "  .colab-df-quickchart {\n",
              "      --bg-color: #E8F0FE;\n",
              "      --fill-color: #1967D2;\n",
              "      --hover-bg-color: #E2EBFA;\n",
              "      --hover-fill-color: #174EA6;\n",
              "      --disabled-fill-color: #AAA;\n",
              "      --disabled-bg-color: #DDD;\n",
              "  }\n",
              "\n",
              "  [theme=dark] .colab-df-quickchart {\n",
              "      --bg-color: #3B4455;\n",
              "      --fill-color: #D2E3FC;\n",
              "      --hover-bg-color: #434B5C;\n",
              "      --hover-fill-color: #FFFFFF;\n",
              "      --disabled-bg-color: #3B4455;\n",
              "      --disabled-fill-color: #666;\n",
              "  }\n",
              "\n",
              "  .colab-df-quickchart {\n",
              "    background-color: var(--bg-color);\n",
              "    border: none;\n",
              "    border-radius: 50%;\n",
              "    cursor: pointer;\n",
              "    display: none;\n",
              "    fill: var(--fill-color);\n",
              "    height: 32px;\n",
              "    padding: 0;\n",
              "    width: 32px;\n",
              "  }\n",
              "\n",
              "  .colab-df-quickchart:hover {\n",
              "    background-color: var(--hover-bg-color);\n",
              "    box-shadow: 0 1px 2px rgba(60, 64, 67, 0.3), 0 1px 3px 1px rgba(60, 64, 67, 0.15);\n",
              "    fill: var(--button-hover-fill-color);\n",
              "  }\n",
              "\n",
              "  .colab-df-quickchart-complete:disabled,\n",
              "  .colab-df-quickchart-complete:disabled:hover {\n",
              "    background-color: var(--disabled-bg-color);\n",
              "    fill: var(--disabled-fill-color);\n",
              "    box-shadow: none;\n",
              "  }\n",
              "\n",
              "  .colab-df-spinner {\n",
              "    border: 2px solid var(--fill-color);\n",
              "    border-color: transparent;\n",
              "    border-bottom-color: var(--fill-color);\n",
              "    animation:\n",
              "      spin 1s steps(1) infinite;\n",
              "  }\n",
              "\n",
              "  @keyframes spin {\n",
              "    0% {\n",
              "      border-color: transparent;\n",
              "      border-bottom-color: var(--fill-color);\n",
              "      border-left-color: var(--fill-color);\n",
              "    }\n",
              "    20% {\n",
              "      border-color: transparent;\n",
              "      border-left-color: var(--fill-color);\n",
              "      border-top-color: var(--fill-color);\n",
              "    }\n",
              "    30% {\n",
              "      border-color: transparent;\n",
              "      border-left-color: var(--fill-color);\n",
              "      border-top-color: var(--fill-color);\n",
              "      border-right-color: var(--fill-color);\n",
              "    }\n",
              "    40% {\n",
              "      border-color: transparent;\n",
              "      border-right-color: var(--fill-color);\n",
              "      border-top-color: var(--fill-color);\n",
              "    }\n",
              "    60% {\n",
              "      border-color: transparent;\n",
              "      border-right-color: var(--fill-color);\n",
              "    }\n",
              "    80% {\n",
              "      border-color: transparent;\n",
              "      border-right-color: var(--fill-color);\n",
              "      border-bottom-color: var(--fill-color);\n",
              "    }\n",
              "    90% {\n",
              "      border-color: transparent;\n",
              "      border-bottom-color: var(--fill-color);\n",
              "    }\n",
              "  }\n",
              "</style>\n",
              "\n",
              "  <script>\n",
              "    async function quickchart(key) {\n",
              "      const quickchartButtonEl =\n",
              "        document.querySelector('#' + key + ' button');\n",
              "      quickchartButtonEl.disabled = true;  // To prevent multiple clicks.\n",
              "      quickchartButtonEl.classList.add('colab-df-spinner');\n",
              "      try {\n",
              "        const charts = await google.colab.kernel.invokeFunction(\n",
              "            'suggestCharts', [key], {});\n",
              "      } catch (error) {\n",
              "        console.error('Error during call to suggestCharts:', error);\n",
              "      }\n",
              "      quickchartButtonEl.classList.remove('colab-df-spinner');\n",
              "      quickchartButtonEl.classList.add('colab-df-quickchart-complete');\n",
              "    }\n",
              "    (() => {\n",
              "      let quickchartButtonEl =\n",
              "        document.querySelector('#df-cd249617-724e-4a13-8aae-c47e8f18eb15 button');\n",
              "      quickchartButtonEl.style.display =\n",
              "        google.colab.kernel.accessAllowed ? 'block' : 'none';\n",
              "    })();\n",
              "  </script>\n",
              "</div>\n",
              "    </div>\n",
              "  </div>\n"
            ],
            "application/vnd.google.colaboratory.intrinsic+json": {
              "type": "dataframe",
              "variable_name": "termination_counts",
              "summary": "{\n  \"name\": \"termination_counts\",\n  \"rows\": 9,\n  \"fields\": [\n    {\n      \"column\": \"termination year\",\n      \"properties\": {\n        \"dtype\": \"number\",\n        \"std\": 2.7386127875258306,\n        \"min\": 2016.0,\n        \"max\": 2024.0,\n        \"num_unique_values\": 9,\n        \"samples\": [\n          2023.0,\n          2017.0,\n          2021.0\n        ],\n        \"semantic_type\": \"\",\n        \"description\": \"\"\n      }\n    },\n    {\n      \"column\": \"termination count\",\n      \"properties\": {\n        \"dtype\": \"number\",\n        \"std\": 344,\n        \"min\": 120,\n        \"max\": 1149,\n        \"num_unique_values\": 9,\n        \"samples\": [\n          729,\n          1149,\n          761\n        ],\n        \"semantic_type\": \"\",\n        \"description\": \"\"\n      }\n    }\n  ]\n}"
            }
          },
          "metadata": {},
          "execution_count": 52
        }
      ]
    }
  ]
}